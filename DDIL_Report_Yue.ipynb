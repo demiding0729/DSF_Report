{
 "cells": [
  {
   "cell_type": "markdown",
   "metadata": {},
   "source": [
    "# Import necessary packages"
   ]
  },
  {
   "cell_type": "code",
   "execution_count": 1,
   "metadata": {},
   "outputs": [],
   "source": [
    "import warnings\n",
    "warnings.simplefilter('ignore')\n",
    "\n",
    "import numpy as np\n",
    "import pandas as pd\n",
    "import seaborn as sns\n",
    "import matplotlib.pyplot as plt\n",
    "from sklearn.metrics import auc, roc_curve, classification_report\n",
    "\n",
    "import h2o\n",
    "from h2o.frame import H2OFrame\n",
    "from h2o.estimators.random_forest import H2ORandomForestEstimator\n",
    "from h2o.grid.grid_search import H2OGridSearch\n",
    "\n",
    "%matplotlib inline\n"
   ]
  },
  {
   "cell_type": "markdown",
   "metadata": {},
   "source": [
    "# Import data"
   ]
  },
  {
   "cell_type": "code",
   "execution_count": 2,
   "metadata": {
    "scrolled": true
   },
   "outputs": [
    {
     "data": {
      "text/html": [
       "<div>\n",
       "<style scoped>\n",
       "    .dataframe tbody tr th:only-of-type {\n",
       "        vertical-align: middle;\n",
       "    }\n",
       "\n",
       "    .dataframe tbody tr th {\n",
       "        vertical-align: top;\n",
       "    }\n",
       "\n",
       "    .dataframe thead th {\n",
       "        text-align: right;\n",
       "    }\n",
       "</style>\n",
       "<table border=\"1\" class=\"dataframe\">\n",
       "  <thead>\n",
       "    <tr style=\"text-align: right;\">\n",
       "      <th></th>\n",
       "      <th>License Number</th>\n",
       "      <th>County</th>\n",
       "      <th>Name</th>\n",
       "      <th>Name Reversed</th>\n",
       "      <th>Type of Child Care</th>\n",
       "      <th>Enforcement Action</th>\n",
       "      <th>Intent to Revoke</th>\n",
       "      <th>Street Address</th>\n",
       "      <th>City</th>\n",
       "      <th>State</th>\n",
       "      <th>...</th>\n",
       "      <th>Age Range</th>\n",
       "      <th>Age Group</th>\n",
       "      <th>Capacity</th>\n",
       "      <th>Opening Time</th>\n",
       "      <th>Closing Time</th>\n",
       "      <th>Special Conditions</th>\n",
       "      <th>Government Programs</th>\n",
       "      <th>Delaware STARS Level</th>\n",
       "      <th>Geocoded Location</th>\n",
       "      <th>Count</th>\n",
       "    </tr>\n",
       "  </thead>\n",
       "  <tbody>\n",
       "    <tr>\n",
       "      <th>0</th>\n",
       "      <td>27390</td>\n",
       "      <td>Sussex</td>\n",
       "      <td>LISA STOECKEL</td>\n",
       "      <td>STOECKEL, LISA</td>\n",
       "      <td>Licensed Family Child Care</td>\n",
       "      <td>NaN</td>\n",
       "      <td>NaN</td>\n",
       "      <td>22448 PETERKINS ROAD</td>\n",
       "      <td>GEORGETOWN</td>\n",
       "      <td>DE</td>\n",
       "      <td>...</td>\n",
       "      <td>6 months through 5 years.</td>\n",
       "      <td>Infant through Pre-School</td>\n",
       "      <td>9</td>\n",
       "      <td>2021-06-13 07:30:00</td>\n",
       "      <td>2021-06-13 17:00:00</td>\n",
       "      <td>NaN</td>\n",
       "      <td>Child Care Food Program</td>\n",
       "      <td>0</td>\n",
       "      <td>POINT (-75.325081 38.66056076)</td>\n",
       "      <td>1</td>\n",
       "    </tr>\n",
       "    <tr>\n",
       "      <th>1</th>\n",
       "      <td>27399</td>\n",
       "      <td>New Castle</td>\n",
       "      <td>YMCA OF DELAWARE / CENTRAL BRANCH YMCA CHILDRE...</td>\n",
       "      <td>YMCA OF DELAWARE / CENTRAL BRANCH YMCA CHILDRE...</td>\n",
       "      <td>Licensed Child Care Center</td>\n",
       "      <td>NaN</td>\n",
       "      <td>NaN</td>\n",
       "      <td>501 WEST 11TH STREET</td>\n",
       "      <td>WILMINGTON</td>\n",
       "      <td>DE</td>\n",
       "      <td>...</td>\n",
       "      <td>6 weeks through 5 years.</td>\n",
       "      <td>Infant through Pre-School</td>\n",
       "      <td>99</td>\n",
       "      <td>2021-06-13 06:45:00</td>\n",
       "      <td>2021-06-13 18:00:00</td>\n",
       "      <td>NaN</td>\n",
       "      <td>Child Care Food Program;Nonprofit;Purchase of ...</td>\n",
       "      <td>5</td>\n",
       "      <td>POINT (-75.5514135 39.748761)</td>\n",
       "      <td>1</td>\n",
       "    </tr>\n",
       "    <tr>\n",
       "      <th>2</th>\n",
       "      <td>27407</td>\n",
       "      <td>Kent</td>\n",
       "      <td>DOVER EDUCATIONAL &amp; COMMUNITY CENTER</td>\n",
       "      <td>DOVER EDUCATIONAL &amp; COMMUNITY CENTER</td>\n",
       "      <td>Licensed Child Care Center</td>\n",
       "      <td>Warning of Probation</td>\n",
       "      <td>Intent to Place on Warning of Probation</td>\n",
       "      <td>744 RIVER ROAD</td>\n",
       "      <td>DOVER</td>\n",
       "      <td>DE</td>\n",
       "      <td>...</td>\n",
       "      <td>1 year through 12 years.</td>\n",
       "      <td>Toddler through School-Age</td>\n",
       "      <td>59</td>\n",
       "      <td>2021-06-13 06:00:00</td>\n",
       "      <td>2021-06-13 20:00:00</td>\n",
       "      <td>NaN</td>\n",
       "      <td>Purchase of Care</td>\n",
       "      <td>0</td>\n",
       "      <td>POINT (-75.5158545 39.152538)</td>\n",
       "      <td>1</td>\n",
       "    </tr>\n",
       "    <tr>\n",
       "      <th>3</th>\n",
       "      <td>27410</td>\n",
       "      <td>New Castle</td>\n",
       "      <td>ELIZABETH JOHNSON</td>\n",
       "      <td>JOHNSON, ELIZABETH</td>\n",
       "      <td>Licensed Family Child Care</td>\n",
       "      <td>NaN</td>\n",
       "      <td>NaN</td>\n",
       "      <td>2011 WEST STREET</td>\n",
       "      <td>WILMINGTON</td>\n",
       "      <td>DE</td>\n",
       "      <td>...</td>\n",
       "      <td>6 weeks through 12 years.</td>\n",
       "      <td>Infant through School-Age</td>\n",
       "      <td>9</td>\n",
       "      <td>2021-06-13 07:00:00</td>\n",
       "      <td>2021-06-13 17:00:00</td>\n",
       "      <td>NaN</td>\n",
       "      <td>Child Care Food Program;Purchase of Care</td>\n",
       "      <td>0</td>\n",
       "      <td>POINT (-75.5426475 39.754116)</td>\n",
       "      <td>1</td>\n",
       "    </tr>\n",
       "    <tr>\n",
       "      <th>4</th>\n",
       "      <td>27411</td>\n",
       "      <td>New Castle</td>\n",
       "      <td>JANEL DEMONIA</td>\n",
       "      <td>DEMONIA, JANEL</td>\n",
       "      <td>Licensed Family Child Care</td>\n",
       "      <td>NaN</td>\n",
       "      <td>NaN</td>\n",
       "      <td>1113 CADE STREET</td>\n",
       "      <td>WILMINGTON</td>\n",
       "      <td>DE</td>\n",
       "      <td>...</td>\n",
       "      <td>6 weeks through 12 years.</td>\n",
       "      <td>Infant through School-Age</td>\n",
       "      <td>9</td>\n",
       "      <td>2021-06-13 15:00:00</td>\n",
       "      <td>2021-06-13 23:00:00</td>\n",
       "      <td>NaN</td>\n",
       "      <td>Private</td>\n",
       "      <td>0</td>\n",
       "      <td>POINT (-75.533895 39.742884)</td>\n",
       "      <td>1</td>\n",
       "    </tr>\n",
       "  </tbody>\n",
       "</table>\n",
       "<p>5 rows × 22 columns</p>\n",
       "</div>"
      ],
      "text/plain": [
       "   License Number      County  \\\n",
       "0           27390      Sussex   \n",
       "1           27399  New Castle   \n",
       "2           27407        Kent   \n",
       "3           27410  New Castle   \n",
       "4           27411  New Castle   \n",
       "\n",
       "                                                Name  \\\n",
       "0                                      LISA STOECKEL   \n",
       "1  YMCA OF DELAWARE / CENTRAL BRANCH YMCA CHILDRE...   \n",
       "2               DOVER EDUCATIONAL & COMMUNITY CENTER   \n",
       "3                                  ELIZABETH JOHNSON   \n",
       "4                                      JANEL DEMONIA   \n",
       "\n",
       "                                       Name Reversed  \\\n",
       "0                                     STOECKEL, LISA   \n",
       "1  YMCA OF DELAWARE / CENTRAL BRANCH YMCA CHILDRE...   \n",
       "2               DOVER EDUCATIONAL & COMMUNITY CENTER   \n",
       "3                                 JOHNSON, ELIZABETH   \n",
       "4                                     DEMONIA, JANEL   \n",
       "\n",
       "           Type of Child Care    Enforcement Action  \\\n",
       "0  Licensed Family Child Care                   NaN   \n",
       "1  Licensed Child Care Center                   NaN   \n",
       "2  Licensed Child Care Center  Warning of Probation   \n",
       "3  Licensed Family Child Care                   NaN   \n",
       "4  Licensed Family Child Care                   NaN   \n",
       "\n",
       "                          Intent to Revoke        Street Address        City  \\\n",
       "0                                      NaN  22448 PETERKINS ROAD  GEORGETOWN   \n",
       "1                                      NaN  501 WEST 11TH STREET  WILMINGTON   \n",
       "2  Intent to Place on Warning of Probation        744 RIVER ROAD       DOVER   \n",
       "3                                      NaN      2011 WEST STREET  WILMINGTON   \n",
       "4                                      NaN      1113 CADE STREET  WILMINGTON   \n",
       "\n",
       "  State  ...                  Age Range                   Age Group Capacity  \\\n",
       "0    DE  ...  6 months through 5 years.   Infant through Pre-School        9   \n",
       "1    DE  ...   6 weeks through 5 years.   Infant through Pre-School       99   \n",
       "2    DE  ...   1 year through 12 years.  Toddler through School-Age       59   \n",
       "3    DE  ...  6 weeks through 12 years.   Infant through School-Age        9   \n",
       "4    DE  ...  6 weeks through 12 years.   Infant through School-Age        9   \n",
       "\n",
       "         Opening Time        Closing Time Special Conditions  \\\n",
       "0 2021-06-13 07:30:00 2021-06-13 17:00:00                NaN   \n",
       "1 2021-06-13 06:45:00 2021-06-13 18:00:00                NaN   \n",
       "2 2021-06-13 06:00:00 2021-06-13 20:00:00                NaN   \n",
       "3 2021-06-13 07:00:00 2021-06-13 17:00:00                NaN   \n",
       "4 2021-06-13 15:00:00 2021-06-13 23:00:00                NaN   \n",
       "\n",
       "                                 Government Programs Delaware STARS Level  \\\n",
       "0                            Child Care Food Program                    0   \n",
       "1  Child Care Food Program;Nonprofit;Purchase of ...                    5   \n",
       "2                                   Purchase of Care                    0   \n",
       "3           Child Care Food Program;Purchase of Care                    0   \n",
       "4                                            Private                    0   \n",
       "\n",
       "                Geocoded Location  Count  \n",
       "0  POINT (-75.325081 38.66056076)      1  \n",
       "1   POINT (-75.5514135 39.748761)      1  \n",
       "2   POINT (-75.5158545 39.152538)      1  \n",
       "3   POINT (-75.5426475 39.754116)      1  \n",
       "4    POINT (-75.533895 39.742884)      1  \n",
       "\n",
       "[5 rows x 22 columns]"
      ]
     },
     "execution_count": 2,
     "metadata": {},
     "output_type": "execute_result"
    }
   ],
   "source": [
    "data = pd.read_csv('Licensed_Child_Care_Providers_and_Facilities.csv', parse_dates=['Closing Time', 'Opening Time'])\n",
    "data.head()"
   ]
  },
  {
   "cell_type": "markdown",
   "metadata": {},
   "source": [
    "# Data Preprocessing\n"
   ]
  },
  {
   "cell_type": "markdown",
   "metadata": {},
   "source": [
    "### Check missing values of each variable"
   ]
  },
  {
   "cell_type": "code",
   "execution_count": 3,
   "metadata": {
    "scrolled": true
   },
   "outputs": [
    {
     "name": "stdout",
     "output_type": "stream",
     "text": [
      "<class 'pandas.core.frame.DataFrame'>\n",
      "RangeIndex: 1004 entries, 0 to 1003\n",
      "Data columns (total 22 columns):\n",
      " #   Column                Non-Null Count  Dtype         \n",
      "---  ------                --------------  -----         \n",
      " 0   License Number        1004 non-null   int64         \n",
      " 1   County                1004 non-null   object        \n",
      " 2   Name                  1004 non-null   object        \n",
      " 3   Name Reversed         1004 non-null   object        \n",
      " 4   Type of Child Care    1004 non-null   object        \n",
      " 5   Enforcement Action    10 non-null     object        \n",
      " 6   Intent to Revoke      24 non-null     object        \n",
      " 7   Street Address        1004 non-null   object        \n",
      " 8   City                  1004 non-null   object        \n",
      " 9   State                 1004 non-null   object        \n",
      " 10  Zip Code              1004 non-null   int64         \n",
      " 11  Phone Number          1004 non-null   object        \n",
      " 12  Age Range             1004 non-null   object        \n",
      " 13  Age Group             1004 non-null   object        \n",
      " 14  Capacity              1004 non-null   int64         \n",
      " 15  Opening Time          1004 non-null   datetime64[ns]\n",
      " 16  Closing Time          1003 non-null   datetime64[ns]\n",
      " 17  Special Conditions    28 non-null     object        \n",
      " 18  Government Programs   922 non-null    object        \n",
      " 19  Delaware STARS Level  1004 non-null   int64         \n",
      " 20  Geocoded Location     1003 non-null   object        \n",
      " 21  Count                 1004 non-null   int64         \n",
      "dtypes: datetime64[ns](2), int64(5), object(15)\n",
      "memory usage: 172.7+ KB\n"
     ]
    }
   ],
   "source": [
    "data.info()"
   ]
  },
  {
   "cell_type": "markdown",
   "metadata": {},
   "source": [
    "*We can see 'Enforcement Action', 'Intent to Revoke', and 'Special Conditions' have too many missing values.*"
   ]
  },
  {
   "cell_type": "markdown",
   "metadata": {},
   "source": [
    "### Add a variable to calculate the service duration (in hours) of each facility"
   ]
  },
  {
   "cell_type": "code",
   "execution_count": 4,
   "metadata": {},
   "outputs": [],
   "source": [
    "# Get the time difference between purchase time and signup time\n",
    "time_diff = data['Closing Time'] - data['Opening Time']\n",
    "time_diff = time_diff.apply(lambda x: x.seconds)\n",
    "data['service time'] = time_diff/3600\n",
    "\n"
   ]
  },
  {
   "cell_type": "markdown",
   "metadata": {},
   "source": [
    "### Convert 'Government Programs' to a binary variable"
   ]
  },
  {
   "cell_type": "code",
   "execution_count": 5,
   "metadata": {},
   "outputs": [],
   "source": [
    "data.loc[pd.isnull(data['Government Programs']),['InGovProgram']]=0\n",
    "data.loc[~pd.isnull(data['Government Programs']),['InGovProgram']]=1"
   ]
  },
  {
   "cell_type": "code",
   "execution_count": 6,
   "metadata": {},
   "outputs": [
    {
     "data": {
      "text/plain": [
       "InGovProgram\n",
       "1.0             922\n",
       "0.0              82\n",
       "dtype: int64"
      ]
     },
     "execution_count": 6,
     "metadata": {},
     "output_type": "execute_result"
    }
   ],
   "source": [
    "#check if we have done it correctly\n",
    "data[['InGovProgram']].value_counts()"
   ]
  },
  {
   "cell_type": "markdown",
   "metadata": {},
   "source": [
    "### Check basic data statistics for contiuous variables"
   ]
  },
  {
   "cell_type": "code",
   "execution_count": 7,
   "metadata": {
    "scrolled": false
   },
   "outputs": [
    {
     "data": {
      "text/html": [
       "<div>\n",
       "<style scoped>\n",
       "    .dataframe tbody tr th:only-of-type {\n",
       "        vertical-align: middle;\n",
       "    }\n",
       "\n",
       "    .dataframe tbody tr th {\n",
       "        vertical-align: top;\n",
       "    }\n",
       "\n",
       "    .dataframe thead th {\n",
       "        text-align: right;\n",
       "    }\n",
       "</style>\n",
       "<table border=\"1\" class=\"dataframe\">\n",
       "  <thead>\n",
       "    <tr style=\"text-align: right;\">\n",
       "      <th></th>\n",
       "      <th>count</th>\n",
       "      <th>mean</th>\n",
       "      <th>std</th>\n",
       "      <th>min</th>\n",
       "      <th>25%</th>\n",
       "      <th>50%</th>\n",
       "      <th>75%</th>\n",
       "      <th>max</th>\n",
       "    </tr>\n",
       "  </thead>\n",
       "  <tbody>\n",
       "    <tr>\n",
       "      <th>Capacity</th>\n",
       "      <td>1004.0</td>\n",
       "      <td>50.494024</td>\n",
       "      <td>63.704115</td>\n",
       "      <td>5.0</td>\n",
       "      <td>9.0</td>\n",
       "      <td>12.0</td>\n",
       "      <td>76.0</td>\n",
       "      <td>585.0</td>\n",
       "    </tr>\n",
       "    <tr>\n",
       "      <th>service time</th>\n",
       "      <td>1003.0</td>\n",
       "      <td>11.099036</td>\n",
       "      <td>2.538809</td>\n",
       "      <td>2.5</td>\n",
       "      <td>10.0</td>\n",
       "      <td>11.0</td>\n",
       "      <td>11.5</td>\n",
       "      <td>23.5</td>\n",
       "    </tr>\n",
       "  </tbody>\n",
       "</table>\n",
       "</div>"
      ],
      "text/plain": [
       "               count       mean        std  min   25%   50%   75%    max\n",
       "Capacity      1004.0  50.494024  63.704115  5.0   9.0  12.0  76.0  585.0\n",
       "service time  1003.0  11.099036   2.538809  2.5  10.0  11.0  11.5   23.5"
      ]
     },
     "execution_count": 7,
     "metadata": {},
     "output_type": "execute_result"
    }
   ],
   "source": [
    "data.iloc[:,[14,22]].describe().transpose()"
   ]
  },
  {
   "cell_type": "markdown",
   "metadata": {},
   "source": [
    "*Min, max values for capacity and service time make sense.*"
   ]
  },
  {
   "cell_type": "markdown",
   "metadata": {},
   "source": [
    "### Check unique values for meaningful variables"
   ]
  },
  {
   "cell_type": "code",
   "execution_count": 8,
   "metadata": {},
   "outputs": [],
   "source": [
    "subset = data.iloc[:,[0,1,2,3,4,5,6,7,8,9,10,12,13,14,18,19,20,21,22,23]]"
   ]
  },
  {
   "cell_type": "code",
   "execution_count": 9,
   "metadata": {},
   "outputs": [],
   "source": [
    "subset['Government Programs'] = subset['Government Programs'].astype(str) \n",
    "subset['Geocoded Location'] = subset['Geocoded Location'].astype(str) \n",
    "subset['Enforcement Action'] = subset['Enforcement Action'].astype(str) \n",
    "subset['Intent to Revoke'] = subset['Intent to Revoke'].astype(str) \n"
   ]
  },
  {
   "cell_type": "code",
   "execution_count": 10,
   "metadata": {
    "scrolled": true
   },
   "outputs": [
    {
     "name": "stdout",
     "output_type": "stream",
     "text": [
      "License Number        1004\t [27390, 27399, 27407]\n",
      "County                   6\t ['KENT', 'Kent', 'NEW CASTLE']\n",
      "Name                  1004\t ['4-H @ LAKE FOREST SOUTH', '4-H AFTERSCHOOL @ KIRK MIDDLE SCHOOL', '4-H AFTERSCHOOL @ PHILLIP SHOWELL ELEMENTARY SCHOOL']\n",
      "Name Reversed         1004\t ['4-H @ LAKE FOREST SOUTH', '4-H AFTERSCHOOL @ KIRK MIDDLE SCHOOL', '4-H AFTERSCHOOL @ PHILLIP SHOWELL ELEMENTARY SCHOOL']\n",
      "Type of Child Care       3\t ['Licensed Child Care Center', 'Licensed Family Child Care', 'Licensed Large Family Child Care']\n",
      "Enforcement Action       4\t ['Probation', 'Probation Extension', 'Warning of Probation']\n",
      "Intent to Revoke         6\t ['Intent to Place on Probation', 'Intent to Place on Probation Extension', 'Intent to Place on Warning of Probation']\n",
      "Street Address         994\t ['1 BASSETT AVENUE', '1 CORONET COURT', '1 EAST 31ST STREET']\n",
      "City                    44\t ['BEAR', 'BETHEL', 'BLADES']\n",
      "State                    1\t ['DE']\n",
      "Zip Code                52\t [19701, 19702, 19703]\n",
      "Age Range               83\t ['1 year through .', '1 year through 10 years.', '1 year through 12 years.']\n",
      "Age Group               10\t ['Infant through Other', 'Infant through Pre-School', 'Infant through School-Age']\n",
      "Capacity               185\t [5, 6, 8]\n",
      "Government Programs     20\t ['Child Care Food Program', 'Child Care Food Program;Nonprofit', 'Child Care Food Program;Nonprofit;Private;Purchase of Care']\n",
      "Delaware STARS Level     6\t [0, 1, 2]\n",
      "Geocoded Location      992\t ['POINT (-75.08716393 38.71119027)', 'POINT (-75.09468381 38.56222388)', 'POINT (-75.09538265 38.52384381)']\n",
      "Count                    1\t [1]\n",
      "service time            43\t [2.5, 3.0, 3.5]\n",
      "InGovProgram             2\t [0.0, 1.0]\n"
     ]
    }
   ],
   "source": [
    "for column in subset.columns:\n",
    "    uniques = sorted(subset[column].unique())\n",
    "    print('{0:20s} {1:5d}\\t'.format(column, len(uniques)), uniques[:3])"
   ]
  },
  {
   "cell_type": "markdown",
   "metadata": {},
   "source": [
    "*Understanding the variables:*\n",
    "1. License number is facility id\n",
    "2. Data was collected from 6 counties\n",
    "3. As name and name reversed both have 1004 observations, we can tell that all facilities are individual provider.\n",
    "4. Three types of child care facilities are provided. \n",
    "5. For 'Enforcement Action' and 'Intent to Revoke', we may consider drop them.\n",
    "6. Street address has 1004 observations with 994 unique values which means some facilities share a same building.\n",
    "7. 44 cities are involved.\n",
    "8. All observations are from DE.\n",
    "9. 52 zip code zones are involved.\n",
    "10. Age range and age group are quite similar while age group is more organized with 10 categories.\n",
    "11. Capacity can be treated a continous variable as different facilities can have different capacities\n",
    "12. From opening time & closing time we get the service duration. Closing time has one missing value which can be dropped.\n",
    "13. Special conditions has too many missing values, we may consider drop it.\n",
    "14. Government Programs has 20 categories which can be converted to a binary variable representing whether the facility participate a government program or not.\n",
    "15. Delaware STARS Level has 6 categories ranging from 0 to 5. I have checked online and found that the STARS Level ranges from 1 to 5 which means facilities with 0 have not started with the STARS Level.\n",
    "16. Geocode location is the geo coordinates for each facility.\n",
    "17. Count is always 1 which can be dropped.\n",
    "\n"
   ]
  },
  {
   "cell_type": "markdown",
   "metadata": {},
   "source": [
    "### Create a subset"
   ]
  },
  {
   "cell_type": "code",
   "execution_count": 11,
   "metadata": {
    "scrolled": true
   },
   "outputs": [],
   "source": [
    "#keep facalities with no Enforcement Action, no Intent to Revoke, no Special Conditions\n",
    "data_s = data[pd.isnull(data['Enforcement Action'])&pd.isnull(data['Intent to Revoke'])&pd.isnull(data['Special Conditions'])]"
   ]
  },
  {
   "cell_type": "code",
   "execution_count": 12,
   "metadata": {},
   "outputs": [],
   "source": [
    "#drop one observation with missing closing time\n",
    "data_s.dropna(subset=['service time'], inplace=True)"
   ]
  },
  {
   "cell_type": "code",
   "execution_count": 13,
   "metadata": {
    "scrolled": true
   },
   "outputs": [
    {
     "name": "stdout",
     "output_type": "stream",
     "text": [
      "<class 'pandas.core.frame.DataFrame'>\n",
      "Int64Index: 952 entries, 0 to 1003\n",
      "Data columns (total 24 columns):\n",
      " #   Column                Non-Null Count  Dtype         \n",
      "---  ------                --------------  -----         \n",
      " 0   License Number        952 non-null    int64         \n",
      " 1   County                952 non-null    object        \n",
      " 2   Name                  952 non-null    object        \n",
      " 3   Name Reversed         952 non-null    object        \n",
      " 4   Type of Child Care    952 non-null    object        \n",
      " 5   Enforcement Action    0 non-null      object        \n",
      " 6   Intent to Revoke      0 non-null      object        \n",
      " 7   Street Address        952 non-null    object        \n",
      " 8   City                  952 non-null    object        \n",
      " 9   State                 952 non-null    object        \n",
      " 10  Zip Code              952 non-null    int64         \n",
      " 11  Phone Number          952 non-null    object        \n",
      " 12  Age Range             952 non-null    object        \n",
      " 13  Age Group             952 non-null    object        \n",
      " 14  Capacity              952 non-null    int64         \n",
      " 15  Opening Time          952 non-null    datetime64[ns]\n",
      " 16  Closing Time          952 non-null    datetime64[ns]\n",
      " 17  Special Conditions    0 non-null      object        \n",
      " 18  Government Programs   871 non-null    object        \n",
      " 19  Delaware STARS Level  952 non-null    int64         \n",
      " 20  Geocoded Location     951 non-null    object        \n",
      " 21  Count                 952 non-null    int64         \n",
      " 22  service time          952 non-null    float64       \n",
      " 23  InGovProgram          952 non-null    float64       \n",
      "dtypes: datetime64[ns](2), float64(2), int64(5), object(15)\n",
      "memory usage: 185.9+ KB\n"
     ]
    }
   ],
   "source": [
    "data_s.info()"
   ]
  },
  {
   "cell_type": "code",
   "execution_count": 14,
   "metadata": {},
   "outputs": [],
   "source": [
    "#create a subset including all necessary variables\n",
    "df = data_s[['County','Type of Child Care','City','Zip Code','Age Group','Capacity','Opening Time','Closing Time','Delaware STARS Level','service time','InGovProgram']]"
   ]
  },
  {
   "cell_type": "code",
   "execution_count": 15,
   "metadata": {
    "scrolled": true
   },
   "outputs": [
    {
     "name": "stdout",
     "output_type": "stream",
     "text": [
      "<class 'pandas.core.frame.DataFrame'>\n",
      "Int64Index: 952 entries, 0 to 1003\n",
      "Data columns (total 11 columns):\n",
      " #   Column                Non-Null Count  Dtype         \n",
      "---  ------                --------------  -----         \n",
      " 0   County                952 non-null    object        \n",
      " 1   Type of Child Care    952 non-null    object        \n",
      " 2   City                  952 non-null    object        \n",
      " 3   Zip Code              952 non-null    int64         \n",
      " 4   Age Group             952 non-null    object        \n",
      " 5   Capacity              952 non-null    int64         \n",
      " 6   Opening Time          952 non-null    datetime64[ns]\n",
      " 7   Closing Time          952 non-null    datetime64[ns]\n",
      " 8   Delaware STARS Level  952 non-null    int64         \n",
      " 9   service time          952 non-null    float64       \n",
      " 10  InGovProgram          952 non-null    float64       \n",
      "dtypes: datetime64[ns](2), float64(2), int64(3), object(4)\n",
      "memory usage: 89.2+ KB\n"
     ]
    }
   ],
   "source": [
    "#check it and we now have a subset with 952 observations\n",
    "df.info()"
   ]
  },
  {
   "cell_type": "markdown",
   "metadata": {},
   "source": [
    "# Exploratory Data Analysis"
   ]
  },
  {
   "cell_type": "markdown",
   "metadata": {},
   "source": [
    "*I'd like to choose 'Delaware STARS Level' as the dependent variable and would like to have a quick and dirty analysis on the relationship between features and the target*"
   ]
  },
  {
   "cell_type": "code",
   "execution_count": 16,
   "metadata": {
    "scrolled": false
   },
   "outputs": [
    {
     "data": {
      "image/png": "[encoded data removed]",
      "text/plain": [
       "<Figure size 1296x432 with 2 Axes>"
      ]
     },
     "metadata": {
      "needs_background": "light"
     },
     "output_type": "display_data"
    }
   ],
   "source": [
    "# Visualization of different Counties\n",
    "grouped = df[['County', 'Delaware STARS Level']].groupby('County').mean().reset_index()\n",
    "\n",
    "fig, ax = plt.subplots(nrows=1, ncols=2, figsize=(18, 6))\n",
    "sns.countplot(x='County', hue='Delaware STARS Level', data=df, ax=ax[0])\n",
    "ax[0].set_title('Count Plot of County', fontsize=16)\n",
    "ax[0].set_yscale('log')\n",
    "sns.barplot(x='County', y='Delaware STARS Level', data=df, ax=ax[1]);\n",
    "ax[1].set_title('Mean STARS Level per Country', fontsize=16)\n",
    "plt.tight_layout()\n",
    "plt.show()"
   ]
  },
  {
   "cell_type": "code",
   "execution_count": 17,
   "metadata": {
    "scrolled": true
   },
   "outputs": [
    {
     "data": {
      "image/png": "[encoded data removed]",
      "text/plain": [
       "<Figure size 1296x432 with 2 Axes>"
      ]
     },
     "metadata": {
      "needs_background": "light"
     },
     "output_type": "display_data"
    }
   ],
   "source": [
    "# Visualization of different Age groups\n",
    "grouped = df[['Age Group', 'Delaware STARS Level']].groupby('Age Group').mean().reset_index()\n",
    "\n",
    "fig, ax = plt.subplots(nrows=1, ncols=2, figsize=(18, 6))\n",
    "sns.countplot(x='Age Group', hue='Delaware STARS Level', data=df, ax=ax[0])\n",
    "ax[0].set_title('Count Plot of Age Group', fontsize=16)\n",
    "ax[0].set_yscale('log')\n",
    "ax[0].set_xticklabels(['Infant through Pre-School', 'Infant through School-Age', 'Pre-School through School-Age',\n",
    "       'Toddler through School-Age', 'Pre-School','Toddler through Pre-School','School-Age','Infant through Other','Infant through Toddler'],rotation=45, ha='right', fontsize = 10)\n",
    "ax[1].set_xticklabels(['Infant through Pre-School', 'Infant through School-Age', 'Pre-School through School-Age',\n",
    "       'Toddler through School-Age', 'Pre-School','Toddler through Pre-School','School-Age','Infant through Other','Infant through Toddler'],rotation=45, ha='right', fontsize = 10)\n",
    "ax[0].legend(loc ='upper right',title=\"Delaware STARS Level\")\n",
    "sns.barplot(x='Age Group', y='Delaware STARS Level', data=df, ax=ax[1]);\n",
    "ax[1].set_title('Mean STARS Level per Age Group', fontsize=16)\n",
    "plt.tight_layout()\n",
    "plt.show()"
   ]
  },
  {
   "cell_type": "code",
   "execution_count": 18,
   "metadata": {
    "scrolled": false
   },
   "outputs": [
    {
     "data": {
      "image/png": "[encoded data removed]",
      "text/plain": [
       "<Figure size 1080x432 with 1 Axes>"
      ]
     },
     "metadata": {
      "needs_background": "light"
     },
     "output_type": "display_data"
    }
   ],
   "source": [
    "# Visualization of different Capacities\n",
    "fig, ax = plt.subplots(figsize=(15, 6))\n",
    "sns.boxplot(df['Delaware STARS Level'],df['Capacity'], ax=ax)\n",
    "ax.set_title('Boxplot of Capacity', fontsize=16)\n",
    "ax.set_xlabel('Delaware STARS Level', fontsize=12)\n",
    "ax.set_ylabel('Capacity', fontsize=12)\n",
    "plt.show()"
   ]
  },
  {
   "cell_type": "code",
   "execution_count": 19,
   "metadata": {},
   "outputs": [
    {
     "data": {
      "image/png": "[encoded data removed]",
      "text/plain": [
       "<Figure size 1080x432 with 1 Axes>"
      ]
     },
     "metadata": {
      "needs_background": "light"
     },
     "output_type": "display_data"
    }
   ],
   "source": [
    "# Visualization of different service durations\n",
    "fig, ax = plt.subplots(figsize=(15, 6))\n",
    "sns.boxplot(df['Delaware STARS Level'],df['service time'], ax=ax)\n",
    "ax.set_title('Boxplot of Service Duration', fontsize=16)\n",
    "ax.set_xlabel('Delaware STARS Level', fontsize=12)\n",
    "ax.set_ylabel('service time', fontsize=12)\n",
    "plt.show()"
   ]
  },
  {
   "cell_type": "code",
   "execution_count": 20,
   "metadata": {
    "scrolled": false
   },
   "outputs": [
    {
     "data": {
      "image/png": "[encoded data removed]",
      "text/plain": [
       "<Figure size 1296x432 with 2 Axes>"
      ]
     },
     "metadata": {
      "needs_background": "light"
     },
     "output_type": "display_data"
    }
   ],
   "source": [
    "# Visualization of government programs\n",
    "grouped = df[['InGovProgram', 'Delaware STARS Level']].groupby('InGovProgram').mean().reset_index()\n",
    "\n",
    "fig, ax = plt.subplots(nrows=1, ncols=2, figsize=(18, 6))\n",
    "sns.countplot(x='InGovProgram', hue='Delaware STARS Level', data=df, ax=ax[0])\n",
    "ax[0].set_title('Count Plot of Government Programs', fontsize=16)\n",
    "ax[0].set_yscale('log')\n",
    "ax[0].legend(loc ='upper right',title=\"Delaware STARS Level\")\n",
    "\n",
    "sns.barplot(x='InGovProgram', y='Delaware STARS Level', data=df, ax=ax[1]);\n",
    "ax[1].set_title('Mean STARS Level of Government Programs', fontsize=16)\n",
    "plt.tight_layout()\n",
    "plt.show()"
   ]
  },
  {
   "cell_type": "code",
   "execution_count": 21,
   "metadata": {},
   "outputs": [
    {
     "data": {
      "image/png": "[encoded data removed]",
      "text/plain": [
       "<Figure size 1080x432 with 1 Axes>"
      ]
     },
     "metadata": {
      "needs_background": "light"
     },
     "output_type": "display_data"
    }
   ],
   "source": [
    "# Visualization of different zip codes\n",
    "grouped = df[['Zip Code', 'Delaware STARS Level']].groupby('Zip Code').mean().reset_index()\n",
    "fig, ax = plt.subplots(figsize=(15, 6))\n",
    "sns.barplot(x=df['Zip Code'], y=df['Delaware STARS Level'], ax=ax)\n",
    "ax.set_title('Mean Delaware STARS Level per Zip Code', fontsize=16)\n",
    "plt.xticks(rotation=45, ha='right', fontsize = 12)\n",
    "plt.tight_layout()\n",
    "plt.show()"
   ]
  },
  {
   "cell_type": "code",
   "execution_count": 22,
   "metadata": {},
   "outputs": [
    {
     "data": {
      "image/png": "[encoded data removed]",
      "text/plain": [
       "<Figure size 1080x432 with 1 Axes>"
      ]
     },
     "metadata": {
      "needs_background": "light"
     },
     "output_type": "display_data"
    }
   ],
   "source": [
    "# Visualization of different cities\n",
    "grouped = df[['City', 'Delaware STARS Level']].groupby('City').mean().reset_index()\n",
    "fig, ax = plt.subplots(figsize=(15, 6))\n",
    "sns.barplot(x=df['City'], y=df['Delaware STARS Level'], ax=ax)\n",
    "ax.set_title('Mean Delaware STARS Level per City', fontsize=16)\n",
    "plt.xticks(rotation=45, ha='right', fontsize = 12)\n",
    "plt.tight_layout()\n",
    "plt.show()"
   ]
  },
  {
   "cell_type": "markdown",
   "metadata": {},
   "source": [
    "# Classification Model"
   ]
  },
  {
   "cell_type": "code",
   "execution_count": 23,
   "metadata": {
    "scrolled": true
   },
   "outputs": [
    {
     "name": "stdout",
     "output_type": "stream",
     "text": [
      "Checking whether there is an H2O instance running at http://localhost:54321 ..... not found.\n",
      "Attempting to start a local H2O server...\n",
      "  Java Version: java version \"14.0.1\" 2020-04-14; Java(TM) SE Runtime Environment (build 14.0.1+7); Java HotSpot(TM) 64-Bit Server VM (build 14.0.1+7, mixed mode, sharing)\n",
      "  Starting server from /Users/dandan/miniconda3/envs/pythonforgnn/lib/python3.7/site-packages/h2o/backend/bin/h2o.jar\n",
      "  Ice root: /var/folders/g1/2frf8xnx2779stl5zvgfrc540000gn/T/tmp563q4dqe\n",
      "  JVM stdout: /var/folders/g1/2frf8xnx2779stl5zvgfrc540000gn/T/tmp563q4dqe/h2o_dandan_started_from_python.out\n",
      "  JVM stderr: /var/folders/g1/2frf8xnx2779stl5zvgfrc540000gn/T/tmp563q4dqe/h2o_dandan_started_from_python.err\n",
      "  Server is running at http://127.0.0.1:54321\n",
      "Connecting to H2O server at http://127.0.0.1:54321 ... successful.\n"
     ]
    },
    {
     "data": {
      "text/html": [
       "<div style=\"overflow:auto\"><table style=\"width:50%\"><tr><td>H2O_cluster_uptime:</td>\n",
       "<td>03 secs</td></tr>\n",
       "<tr><td>H2O_cluster_timezone:</td>\n",
       "<td>America/New_York</td></tr>\n",
       "<tr><td>H2O_data_parsing_timezone:</td>\n",
       "<td>UTC</td></tr>\n",
       "<tr><td>H2O_cluster_version:</td>\n",
       "<td>3.32.1.3</td></tr>\n",
       "<tr><td>H2O_cluster_version_age:</td>\n",
       "<td>25 days </td></tr>\n",
       "<tr><td>H2O_cluster_name:</td>\n",
       "<td>H2O_from_python_dandan_wwxqvt</td></tr>\n",
       "<tr><td>H2O_cluster_total_nodes:</td>\n",
       "<td>1</td></tr>\n",
       "<tr><td>H2O_cluster_free_memory:</td>\n",
       "<td>2 Gb</td></tr>\n",
       "<tr><td>H2O_cluster_total_cores:</td>\n",
       "<td>8</td></tr>\n",
       "<tr><td>H2O_cluster_allowed_cores:</td>\n",
       "<td>8</td></tr>\n",
       "<tr><td>H2O_cluster_status:</td>\n",
       "<td>accepting new members, healthy</td></tr>\n",
       "<tr><td>H2O_connection_url:</td>\n",
       "<td>http://127.0.0.1:54321</td></tr>\n",
       "<tr><td>H2O_connection_proxy:</td>\n",
       "<td>{\"http\": null, \"https\": null}</td></tr>\n",
       "<tr><td>H2O_internal_security:</td>\n",
       "<td>False</td></tr>\n",
       "<tr><td>H2O_API_Extensions:</td>\n",
       "<td>Amazon S3, XGBoost, Algos, AutoML, Core V3, TargetEncoder, Core V4</td></tr>\n",
       "<tr><td>Python_version:</td>\n",
       "<td>3.7.9 final</td></tr></table></div>"
      ],
      "text/plain": [
       "--------------------------  ------------------------------------------------------------------\n",
       "H2O_cluster_uptime:         03 secs\n",
       "H2O_cluster_timezone:       America/New_York\n",
       "H2O_data_parsing_timezone:  UTC\n",
       "H2O_cluster_version:        3.32.1.3\n",
       "H2O_cluster_version_age:    25 days\n",
       "H2O_cluster_name:           H2O_from_python_dandan_wwxqvt\n",
       "H2O_cluster_total_nodes:    1\n",
       "H2O_cluster_free_memory:    2 Gb\n",
       "H2O_cluster_total_cores:    8\n",
       "H2O_cluster_allowed_cores:  8\n",
       "H2O_cluster_status:         accepting new members, healthy\n",
       "H2O_connection_url:         http://127.0.0.1:54321\n",
       "H2O_connection_proxy:       {\"http\": null, \"https\": null}\n",
       "H2O_internal_security:      False\n",
       "H2O_API_Extensions:         Amazon S3, XGBoost, Algos, AutoML, Core V3, TargetEncoder, Core V4\n",
       "Python_version:             3.7.9 final\n",
       "--------------------------  ------------------------------------------------------------------"
      ]
     },
     "metadata": {},
     "output_type": "display_data"
    }
   ],
   "source": [
    "# Initialize H2O\n",
    "h2o.init()"
   ]
  },
  {
   "cell_type": "code",
   "execution_count": 24,
   "metadata": {},
   "outputs": [
    {
     "name": "stdout",
     "output_type": "stream",
     "text": [
      "Parse progress: |█████████████████████████████████████████████████████████| 100%\n"
     ]
    }
   ],
   "source": [
    "# Transform df to H2O Frame\n",
    "h2o_df = H2OFrame(df)\n",
    "\n"
   ]
  },
  {
   "cell_type": "code",
   "execution_count": 25,
   "metadata": {},
   "outputs": [],
   "source": [
    "h2o_df['Zip Code'] = h2o_df['Zip Code'].asfactor()\n",
    "h2o_df['Delaware STARS Level'] = h2o_df['Delaware STARS Level'].asfactor()\n",
    "h2o_df['InGovProgram'] = h2o_df['InGovProgram'].asfactor()\n"
   ]
  },
  {
   "cell_type": "code",
   "execution_count": 26,
   "metadata": {
    "scrolled": true
   },
   "outputs": [
    {
     "data": {
      "text/html": [
       "<table>\n",
       "<thead>\n",
       "<tr><th>       </th><th>County    </th><th>Type of Child Care        </th><th>City      </th><th>Zip Code  </th><th>Age Group                    </th><th>Capacity         </th><th>Opening Time       </th><th>Closing Time       </th><th>Delaware STARS Level  </th><th>service time      </th><th>InGovProgram  </th></tr>\n",
       "</thead>\n",
       "<tbody>\n",
       "<tr><td>type   </td><td>enum      </td><td>enum                      </td><td>enum      </td><td>enum      </td><td>enum                         </td><td>int              </td><td>time               </td><td>time               </td><td>enum                  </td><td>real              </td><td>enum          </td></tr>\n",
       "<tr><td>mins   </td><td>          </td><td>                          </td><td>          </td><td>          </td><td>                             </td><td>5.0              </td><td>1623558600000.0    </td><td>1623542400000.0    </td><td>                      </td><td>2.5               </td><td>              </td></tr>\n",
       "<tr><td>mean   </td><td>          </td><td>                          </td><td>          </td><td>          </td><td>                             </td><td>51.38760504201686</td><td>1623567563760.5022 </td><td>1623606153466.387  </td><td>                      </td><td>11.047093837535034</td><td>              </td></tr>\n",
       "<tr><td>maxs   </td><td>          </td><td>                          </td><td>          </td><td>          </td><td>                             </td><td>585.0            </td><td>1623607200000.0    </td><td>1623627000000.0    </td><td>                      </td><td>23.5              </td><td>              </td></tr>\n",
       "<tr><td>sigma  </td><td>          </td><td>                          </td><td>          </td><td>          </td><td>                             </td><td>64.18222917843241</td><td>4893017.379120079  </td><td>8840531.87001737   </td><td>                      </td><td>2.5455712771987526</td><td>              </td></tr>\n",
       "<tr><td>zeros  </td><td>          </td><td>                          </td><td>          </td><td>          </td><td>                             </td><td>0                </td><td>0                  </td><td>0                  </td><td>                      </td><td>0                 </td><td>              </td></tr>\n",
       "<tr><td>missing</td><td>0         </td><td>0                         </td><td>0         </td><td>0         </td><td>0                            </td><td>0                </td><td>0                  </td><td>0                  </td><td>0                     </td><td>0                 </td><td>0             </td></tr>\n",
       "<tr><td>0      </td><td>Sussex    </td><td>Licensed Family Child Care</td><td>GEORGETOWN</td><td>19947     </td><td>Infant through Pre-School    </td><td>9.0              </td><td>2021-06-13 07:30:00</td><td>2021-06-13 17:00:00</td><td>0                     </td><td>9.5               </td><td>1             </td></tr>\n",
       "<tr><td>1      </td><td>New Castle</td><td>Licensed Child Care Center</td><td>WILMINGTON</td><td>19801     </td><td>Infant through Pre-School    </td><td>99.0             </td><td>2021-06-13 06:45:00</td><td>2021-06-13 18:00:00</td><td>5                     </td><td>11.25             </td><td>1             </td></tr>\n",
       "<tr><td>2      </td><td>New Castle</td><td>Licensed Family Child Care</td><td>WILMINGTON</td><td>19802     </td><td>Infant through School-Age    </td><td>9.0              </td><td>2021-06-13 07:00:00</td><td>2021-06-13 17:00:00</td><td>0                     </td><td>10.0              </td><td>1             </td></tr>\n",
       "<tr><td>3      </td><td>New Castle</td><td>Licensed Family Child Care</td><td>WILMINGTON</td><td>19802     </td><td>Infant through School-Age    </td><td>9.0              </td><td>2021-06-13 15:00:00</td><td>2021-06-13 23:00:00</td><td>0                     </td><td>8.0               </td><td>1             </td></tr>\n",
       "<tr><td>4      </td><td>New Castle</td><td>Licensed Family Child Care</td><td>NEW CASTLE</td><td>19720     </td><td>Infant through School-Age    </td><td>9.0              </td><td>2021-06-13 07:00:00</td><td>2021-06-13 18:00:00</td><td>0                     </td><td>11.0              </td><td>1             </td></tr>\n",
       "<tr><td>5      </td><td>NEW CASTLE</td><td>Licensed Child Care Center</td><td>WILMINGTON</td><td>19801     </td><td>Pre-School through School-Age</td><td>55.0             </td><td>2021-06-13 07:30:00</td><td>2021-06-13 18:00:00</td><td>0                     </td><td>10.5              </td><td>1             </td></tr>\n",
       "<tr><td>6      </td><td>New Castle</td><td>Licensed Family Child Care</td><td>WILMINGTON</td><td>19803     </td><td>Infant through School-Age    </td><td>9.0              </td><td>2021-06-13 07:00:00</td><td>2021-06-13 17:30:00</td><td>0                     </td><td>10.5              </td><td>1             </td></tr>\n",
       "<tr><td>7      </td><td>NEW CASTLE</td><td>Licensed Family Child Care</td><td>MIDDLETOWN</td><td>19709     </td><td>Infant through School-Age    </td><td>9.0              </td><td>2021-06-13 07:30:00</td><td>2021-06-13 22:30:00</td><td>0                     </td><td>15.0              </td><td>1             </td></tr>\n",
       "<tr><td>8      </td><td>Sussex    </td><td>Licensed Family Child Care</td><td>MILTON    </td><td>19968     </td><td>Infant through School-Age    </td><td>9.0              </td><td>2021-06-13 07:30:00</td><td>2021-06-13 16:30:00</td><td>0                     </td><td>9.0               </td><td>1             </td></tr>\n",
       "<tr><td>9      </td><td>New Castle</td><td>Licensed Family Child Care</td><td>BEAR      </td><td>19701     </td><td>Infant through School-Age    </td><td>9.0              </td><td>2021-06-13 07:00:00</td><td>2021-06-13 16:30:00</td><td>2                     </td><td>9.5               </td><td>1             </td></tr>\n",
       "</tbody>\n",
       "</table>"
      ]
     },
     "metadata": {},
     "output_type": "display_data"
    }
   ],
   "source": [
    "h2o_df.summary()"
   ]
  },
  {
   "cell_type": "code",
   "execution_count": 27,
   "metadata": {},
   "outputs": [],
   "source": [
    "# Split into training, valid, and test dataset\n",
    "train, valid, test = h2o_df.split_frame([0.6, 0.2], seed=42)\n",
    "\n",
    "feature = ['County', 'Type of Child Care', 'City', 'Zip Code', 'Age Group','Capacity','service time','InGovProgram']\n",
    "target = 'Delaware STARS Level'"
   ]
  },
  {
   "cell_type": "code",
   "execution_count": 28,
   "metadata": {},
   "outputs": [
    {
     "name": "stdout",
     "output_type": "stream",
     "text": [
      "drf Model Build progress: |███████████████████████████████████████████████| 100%\n"
     ]
    }
   ],
   "source": [
    "# Build random forest model\n",
    "model = H2ORandomForestEstimator(balance_classes=True, ntrees=100, max_depth=20, \n",
    "                                 mtries=-1, seed=42, score_each_iteration=True)\n",
    "model.train(x=feature, y=target, training_frame=train, validation_frame=valid)"
   ]
  },
  {
   "cell_type": "code",
   "execution_count": 29,
   "metadata": {
    "scrolled": true
   },
   "outputs": [
    {
     "name": "stdout",
     "output_type": "stream",
     "text": [
      "Model Details\n",
      "=============\n",
      "H2ORandomForestEstimator :  Distributed Random Forest\n",
      "Model Key:  DRF_model_python_1623622614850_1\n",
      "\n",
      "\n",
      "Model Summary: \n"
     ]
    },
    {
     "data": {
      "text/html": [
       "<div>\n",
       "<style scoped>\n",
       "    .dataframe tbody tr th:only-of-type {\n",
       "        vertical-align: middle;\n",
       "    }\n",
       "\n",
       "    .dataframe tbody tr th {\n",
       "        vertical-align: top;\n",
       "    }\n",
       "\n",
       "    .dataframe thead th {\n",
       "        text-align: right;\n",
       "    }\n",
       "</style>\n",
       "<table border=\"1\" class=\"dataframe\">\n",
       "  <thead>\n",
       "    <tr style=\"text-align: right;\">\n",
       "      <th></th>\n",
       "      <th></th>\n",
       "      <th>number_of_trees</th>\n",
       "      <th>number_of_internal_trees</th>\n",
       "      <th>model_size_in_bytes</th>\n",
       "      <th>min_depth</th>\n",
       "      <th>max_depth</th>\n",
       "      <th>mean_depth</th>\n",
       "      <th>min_leaves</th>\n",
       "      <th>max_leaves</th>\n",
       "      <th>mean_leaves</th>\n",
       "    </tr>\n",
       "  </thead>\n",
       "  <tbody>\n",
       "    <tr>\n",
       "      <th>0</th>\n",
       "      <td></td>\n",
       "      <td>100.0</td>\n",
       "      <td>600.0</td>\n",
       "      <td>725445.0</td>\n",
       "      <td>6.0</td>\n",
       "      <td>20.0</td>\n",
       "      <td>14.45</td>\n",
       "      <td>17.0</td>\n",
       "      <td>145.0</td>\n",
       "      <td>76.34</td>\n",
       "    </tr>\n",
       "  </tbody>\n",
       "</table>\n",
       "</div>"
      ],
      "text/plain": [
       "     number_of_trees  number_of_internal_trees  model_size_in_bytes  \\\n",
       "0              100.0                     600.0             725445.0   \n",
       "\n",
       "   min_depth  max_depth  mean_depth  min_leaves  max_leaves  mean_leaves  \n",
       "0        6.0       20.0       14.45        17.0       145.0        76.34  "
      ]
     },
     "metadata": {},
     "output_type": "display_data"
    },
    {
     "name": "stdout",
     "output_type": "stream",
     "text": [
      "\n",
      "\n",
      "ModelMetricsMultinomial: drf\n",
      "** Reported on train data. **\n",
      "\n",
      "MSE: 0.1565895457606704\n",
      "RMSE: 0.3957139696304269\n",
      "LogLoss: 0.46921911482052026\n",
      "Mean Per-Class Error: 0.2192303767261623\n",
      "AUC: NaN\n",
      "AUCPR: NaN\n",
      "Multinomial auc values: Table is not computed because it is disabled (model parameter 'auc_type' is set to AUTO or NONE) or due to domain size (maximum is 50 domains).\n",
      "Multinomial auc_pr values: Table is not computed because it is disabled (model parameter 'auc_type' is set to AUTO or NONE) or due to domain size (maximum is 50 domains).\n",
      "\n",
      "Confusion Matrix: Row labels: Actual class; Column labels: Predicted class\n"
     ]
    },
    {
     "data": {
      "text/html": [
       "<div>\n",
       "<style scoped>\n",
       "    .dataframe tbody tr th:only-of-type {\n",
       "        vertical-align: middle;\n",
       "    }\n",
       "\n",
       "    .dataframe tbody tr th {\n",
       "        vertical-align: top;\n",
       "    }\n",
       "\n",
       "    .dataframe thead th {\n",
       "        text-align: right;\n",
       "    }\n",
       "</style>\n",
       "<table border=\"1\" class=\"dataframe\">\n",
       "  <thead>\n",
       "    <tr style=\"text-align: right;\">\n",
       "      <th></th>\n",
       "      <th>0</th>\n",
       "      <th>1</th>\n",
       "      <th>2</th>\n",
       "      <th>3</th>\n",
       "      <th>4</th>\n",
       "      <th>5</th>\n",
       "      <th>Error</th>\n",
       "      <th>Rate</th>\n",
       "    </tr>\n",
       "  </thead>\n",
       "  <tbody>\n",
       "    <tr>\n",
       "      <th>0</th>\n",
       "      <td>301.0</td>\n",
       "      <td>0.0</td>\n",
       "      <td>3.0</td>\n",
       "      <td>5.0</td>\n",
       "      <td>3.0</td>\n",
       "      <td>15.0</td>\n",
       "      <td>0.079511</td>\n",
       "      <td>26 / 327</td>\n",
       "    </tr>\n",
       "    <tr>\n",
       "      <th>1</th>\n",
       "      <td>138.0</td>\n",
       "      <td>187.0</td>\n",
       "      <td>0.0</td>\n",
       "      <td>0.0</td>\n",
       "      <td>0.0</td>\n",
       "      <td>0.0</td>\n",
       "      <td>0.424615</td>\n",
       "      <td>138 / 325</td>\n",
       "    </tr>\n",
       "    <tr>\n",
       "      <th>2</th>\n",
       "      <td>72.0</td>\n",
       "      <td>0.0</td>\n",
       "      <td>241.0</td>\n",
       "      <td>12.0</td>\n",
       "      <td>0.0</td>\n",
       "      <td>3.0</td>\n",
       "      <td>0.265244</td>\n",
       "      <td>87 / 328</td>\n",
       "    </tr>\n",
       "    <tr>\n",
       "      <th>3</th>\n",
       "      <td>66.0</td>\n",
       "      <td>0.0</td>\n",
       "      <td>11.0</td>\n",
       "      <td>249.0</td>\n",
       "      <td>0.0</td>\n",
       "      <td>0.0</td>\n",
       "      <td>0.236196</td>\n",
       "      <td>77 / 326</td>\n",
       "    </tr>\n",
       "    <tr>\n",
       "      <th>4</th>\n",
       "      <td>64.0</td>\n",
       "      <td>0.0</td>\n",
       "      <td>0.0</td>\n",
       "      <td>0.0</td>\n",
       "      <td>253.0</td>\n",
       "      <td>9.0</td>\n",
       "      <td>0.223926</td>\n",
       "      <td>73 / 326</td>\n",
       "    </tr>\n",
       "    <tr>\n",
       "      <th>5</th>\n",
       "      <td>22.0</td>\n",
       "      <td>0.0</td>\n",
       "      <td>3.0</td>\n",
       "      <td>0.0</td>\n",
       "      <td>3.0</td>\n",
       "      <td>298.0</td>\n",
       "      <td>0.085890</td>\n",
       "      <td>28 / 326</td>\n",
       "    </tr>\n",
       "    <tr>\n",
       "      <th>6</th>\n",
       "      <td>663.0</td>\n",
       "      <td>187.0</td>\n",
       "      <td>258.0</td>\n",
       "      <td>266.0</td>\n",
       "      <td>259.0</td>\n",
       "      <td>325.0</td>\n",
       "      <td>0.219101</td>\n",
       "      <td>429 / 1,958</td>\n",
       "    </tr>\n",
       "  </tbody>\n",
       "</table>\n",
       "</div>"
      ],
      "text/plain": [
       "       0      1      2      3      4      5     Error         Rate\n",
       "0  301.0    0.0    3.0    5.0    3.0   15.0  0.079511     26 / 327\n",
       "1  138.0  187.0    0.0    0.0    0.0    0.0  0.424615    138 / 325\n",
       "2   72.0    0.0  241.0   12.0    0.0    3.0  0.265244     87 / 328\n",
       "3   66.0    0.0   11.0  249.0    0.0    0.0  0.236196     77 / 326\n",
       "4   64.0    0.0    0.0    0.0  253.0    9.0  0.223926     73 / 326\n",
       "5   22.0    0.0    3.0    0.0    3.0  298.0  0.085890     28 / 326\n",
       "6  663.0  187.0  258.0  266.0  259.0  325.0  0.219101  429 / 1,958"
      ]
     },
     "metadata": {},
     "output_type": "display_data"
    },
    {
     "name": "stdout",
     "output_type": "stream",
     "text": [
      "\n",
      "Top-6 Hit Ratios: \n"
     ]
    },
    {
     "data": {
      "text/html": [
       "<div>\n",
       "<style scoped>\n",
       "    .dataframe tbody tr th:only-of-type {\n",
       "        vertical-align: middle;\n",
       "    }\n",
       "\n",
       "    .dataframe tbody tr th {\n",
       "        vertical-align: top;\n",
       "    }\n",
       "\n",
       "    .dataframe thead th {\n",
       "        text-align: right;\n",
       "    }\n",
       "</style>\n",
       "<table border=\"1\" class=\"dataframe\">\n",
       "  <thead>\n",
       "    <tr style=\"text-align: right;\">\n",
       "      <th></th>\n",
       "      <th>k</th>\n",
       "      <th>hit_ratio</th>\n",
       "    </tr>\n",
       "  </thead>\n",
       "  <tbody>\n",
       "    <tr>\n",
       "      <th>0</th>\n",
       "      <td>1</td>\n",
       "      <td>0.780899</td>\n",
       "    </tr>\n",
       "    <tr>\n",
       "      <th>1</th>\n",
       "      <td>2</td>\n",
       "      <td>0.985189</td>\n",
       "    </tr>\n",
       "    <tr>\n",
       "      <th>2</th>\n",
       "      <td>3</td>\n",
       "      <td>0.998979</td>\n",
       "    </tr>\n",
       "    <tr>\n",
       "      <th>3</th>\n",
       "      <td>4</td>\n",
       "      <td>0.998979</td>\n",
       "    </tr>\n",
       "    <tr>\n",
       "      <th>4</th>\n",
       "      <td>5</td>\n",
       "      <td>1.000000</td>\n",
       "    </tr>\n",
       "    <tr>\n",
       "      <th>5</th>\n",
       "      <td>6</td>\n",
       "      <td>1.000000</td>\n",
       "    </tr>\n",
       "  </tbody>\n",
       "</table>\n",
       "</div>"
      ],
      "text/plain": [
       "   k  hit_ratio\n",
       "0  1   0.780899\n",
       "1  2   0.985189\n",
       "2  3   0.998979\n",
       "3  4   0.998979\n",
       "4  5   1.000000\n",
       "5  6   1.000000"
      ]
     },
     "metadata": {},
     "output_type": "display_data"
    },
    {
     "name": "stdout",
     "output_type": "stream",
     "text": [
      "\n",
      "ModelMetricsMultinomial: drf\n",
      "** Reported on validation data. **\n",
      "\n",
      "MSE: 0.3419710893276582\n",
      "RMSE: 0.5847829420628291\n",
      "LogLoss: 2.5975246219749644\n",
      "Mean Per-Class Error: 0.7960166048401343\n",
      "AUC: NaN\n",
      "AUCPR: NaN\n",
      "Multinomial auc values: Table is not computed because it is disabled (model parameter 'auc_type' is set to AUTO or NONE) or due to domain size (maximum is 50 domains).\n",
      "Multinomial auc_pr values: Table is not computed because it is disabled (model parameter 'auc_type' is set to AUTO or NONE) or due to domain size (maximum is 50 domains).\n",
      "\n",
      "Confusion Matrix: Row labels: Actual class; Column labels: Predicted class\n"
     ]
    },
    {
     "data": {
      "text/html": [
       "<div>\n",
       "<style scoped>\n",
       "    .dataframe tbody tr th:only-of-type {\n",
       "        vertical-align: middle;\n",
       "    }\n",
       "\n",
       "    .dataframe tbody tr th {\n",
       "        vertical-align: top;\n",
       "    }\n",
       "\n",
       "    .dataframe thead th {\n",
       "        text-align: right;\n",
       "    }\n",
       "</style>\n",
       "<table border=\"1\" class=\"dataframe\">\n",
       "  <thead>\n",
       "    <tr style=\"text-align: right;\">\n",
       "      <th></th>\n",
       "      <th>0</th>\n",
       "      <th>1</th>\n",
       "      <th>2</th>\n",
       "      <th>3</th>\n",
       "      <th>4</th>\n",
       "      <th>5</th>\n",
       "      <th>Error</th>\n",
       "      <th>Rate</th>\n",
       "    </tr>\n",
       "  </thead>\n",
       "  <tbody>\n",
       "    <tr>\n",
       "      <th>0</th>\n",
       "      <td>89.0</td>\n",
       "      <td>0.0</td>\n",
       "      <td>1.0</td>\n",
       "      <td>3.0</td>\n",
       "      <td>2.0</td>\n",
       "      <td>7.0</td>\n",
       "      <td>0.127451</td>\n",
       "      <td>13 / 102</td>\n",
       "    </tr>\n",
       "    <tr>\n",
       "      <th>1</th>\n",
       "      <td>4.0</td>\n",
       "      <td>0.0</td>\n",
       "      <td>0.0</td>\n",
       "      <td>0.0</td>\n",
       "      <td>0.0</td>\n",
       "      <td>2.0</td>\n",
       "      <td>1.000000</td>\n",
       "      <td>6 / 6</td>\n",
       "    </tr>\n",
       "    <tr>\n",
       "      <th>2</th>\n",
       "      <td>4.0</td>\n",
       "      <td>0.0</td>\n",
       "      <td>0.0</td>\n",
       "      <td>1.0</td>\n",
       "      <td>0.0</td>\n",
       "      <td>2.0</td>\n",
       "      <td>1.000000</td>\n",
       "      <td>7 / 7</td>\n",
       "    </tr>\n",
       "    <tr>\n",
       "      <th>3</th>\n",
       "      <td>9.0</td>\n",
       "      <td>0.0</td>\n",
       "      <td>0.0</td>\n",
       "      <td>0.0</td>\n",
       "      <td>0.0</td>\n",
       "      <td>3.0</td>\n",
       "      <td>1.000000</td>\n",
       "      <td>12 / 12</td>\n",
       "    </tr>\n",
       "    <tr>\n",
       "      <th>4</th>\n",
       "      <td>6.0</td>\n",
       "      <td>0.0</td>\n",
       "      <td>0.0</td>\n",
       "      <td>1.0</td>\n",
       "      <td>0.0</td>\n",
       "      <td>2.0</td>\n",
       "      <td>1.000000</td>\n",
       "      <td>9 / 9</td>\n",
       "    </tr>\n",
       "    <tr>\n",
       "      <th>5</th>\n",
       "      <td>21.0</td>\n",
       "      <td>0.0</td>\n",
       "      <td>0.0</td>\n",
       "      <td>2.0</td>\n",
       "      <td>1.0</td>\n",
       "      <td>13.0</td>\n",
       "      <td>0.648649</td>\n",
       "      <td>24 / 37</td>\n",
       "    </tr>\n",
       "    <tr>\n",
       "      <th>6</th>\n",
       "      <td>133.0</td>\n",
       "      <td>0.0</td>\n",
       "      <td>1.0</td>\n",
       "      <td>7.0</td>\n",
       "      <td>3.0</td>\n",
       "      <td>29.0</td>\n",
       "      <td>0.410405</td>\n",
       "      <td>71 / 173</td>\n",
       "    </tr>\n",
       "  </tbody>\n",
       "</table>\n",
       "</div>"
      ],
      "text/plain": [
       "       0    1    2    3    4     5     Error      Rate\n",
       "0   89.0  0.0  1.0  3.0  2.0   7.0  0.127451  13 / 102\n",
       "1    4.0  0.0  0.0  0.0  0.0   2.0  1.000000     6 / 6\n",
       "2    4.0  0.0  0.0  1.0  0.0   2.0  1.000000     7 / 7\n",
       "3    9.0  0.0  0.0  0.0  0.0   3.0  1.000000   12 / 12\n",
       "4    6.0  0.0  0.0  1.0  0.0   2.0  1.000000     9 / 9\n",
       "5   21.0  0.0  0.0  2.0  1.0  13.0  0.648649   24 / 37\n",
       "6  133.0  0.0  1.0  7.0  3.0  29.0  0.410405  71 / 173"
      ]
     },
     "metadata": {},
     "output_type": "display_data"
    },
    {
     "name": "stdout",
     "output_type": "stream",
     "text": [
      "\n",
      "Top-6 Hit Ratios: \n"
     ]
    },
    {
     "data": {
      "text/html": [
       "<div>\n",
       "<style scoped>\n",
       "    .dataframe tbody tr th:only-of-type {\n",
       "        vertical-align: middle;\n",
       "    }\n",
       "\n",
       "    .dataframe tbody tr th {\n",
       "        vertical-align: top;\n",
       "    }\n",
       "\n",
       "    .dataframe thead th {\n",
       "        text-align: right;\n",
       "    }\n",
       "</style>\n",
       "<table border=\"1\" class=\"dataframe\">\n",
       "  <thead>\n",
       "    <tr style=\"text-align: right;\">\n",
       "      <th></th>\n",
       "      <th>k</th>\n",
       "      <th>hit_ratio</th>\n",
       "    </tr>\n",
       "  </thead>\n",
       "  <tbody>\n",
       "    <tr>\n",
       "      <th>0</th>\n",
       "      <td>1</td>\n",
       "      <td>0.589595</td>\n",
       "    </tr>\n",
       "    <tr>\n",
       "      <th>1</th>\n",
       "      <td>2</td>\n",
       "      <td>0.763006</td>\n",
       "    </tr>\n",
       "    <tr>\n",
       "      <th>2</th>\n",
       "      <td>3</td>\n",
       "      <td>0.849711</td>\n",
       "    </tr>\n",
       "    <tr>\n",
       "      <th>3</th>\n",
       "      <td>4</td>\n",
       "      <td>0.895954</td>\n",
       "    </tr>\n",
       "    <tr>\n",
       "      <th>4</th>\n",
       "      <td>5</td>\n",
       "      <td>0.953757</td>\n",
       "    </tr>\n",
       "    <tr>\n",
       "      <th>5</th>\n",
       "      <td>6</td>\n",
       "      <td>1.000000</td>\n",
       "    </tr>\n",
       "  </tbody>\n",
       "</table>\n",
       "</div>"
      ],
      "text/plain": [
       "   k  hit_ratio\n",
       "0  1   0.589595\n",
       "1  2   0.763006\n",
       "2  3   0.849711\n",
       "3  4   0.895954\n",
       "4  5   0.953757\n",
       "5  6   1.000000"
      ]
     },
     "metadata": {},
     "output_type": "display_data"
    },
    {
     "name": "stdout",
     "output_type": "stream",
     "text": [
      "\n",
      "Scoring History: \n"
     ]
    },
    {
     "data": {
      "text/html": [
       "<div>\n",
       "<style scoped>\n",
       "    .dataframe tbody tr th:only-of-type {\n",
       "        vertical-align: middle;\n",
       "    }\n",
       "\n",
       "    .dataframe tbody tr th {\n",
       "        vertical-align: top;\n",
       "    }\n",
       "\n",
       "    .dataframe thead th {\n",
       "        text-align: right;\n",
       "    }\n",
       "</style>\n",
       "<table border=\"1\" class=\"dataframe\">\n",
       "  <thead>\n",
       "    <tr style=\"text-align: right;\">\n",
       "      <th></th>\n",
       "      <th></th>\n",
       "      <th>timestamp</th>\n",
       "      <th>duration</th>\n",
       "      <th>number_of_trees</th>\n",
       "      <th>training_rmse</th>\n",
       "      <th>training_logloss</th>\n",
       "      <th>training_classification_error</th>\n",
       "      <th>training_auc</th>\n",
       "      <th>training_pr_auc</th>\n",
       "      <th>validation_rmse</th>\n",
       "      <th>validation_logloss</th>\n",
       "      <th>validation_classification_error</th>\n",
       "      <th>validation_auc</th>\n",
       "      <th>validation_pr_auc</th>\n",
       "    </tr>\n",
       "  </thead>\n",
       "  <tbody>\n",
       "    <tr>\n",
       "      <th>0</th>\n",
       "      <td></td>\n",
       "      <td>2021-06-13 18:16:59</td>\n",
       "      <td>0.030 sec</td>\n",
       "      <td>0.0</td>\n",
       "      <td>NaN</td>\n",
       "      <td>NaN</td>\n",
       "      <td>NaN</td>\n",
       "      <td>NaN</td>\n",
       "      <td>NaN</td>\n",
       "      <td>NaN</td>\n",
       "      <td>NaN</td>\n",
       "      <td>NaN</td>\n",
       "      <td>NaN</td>\n",
       "      <td>NaN</td>\n",
       "    </tr>\n",
       "    <tr>\n",
       "      <th>1</th>\n",
       "      <td></td>\n",
       "      <td>2021-06-13 18:16:59</td>\n",
       "      <td>0.242 sec</td>\n",
       "      <td>1.0</td>\n",
       "      <td>0.448258</td>\n",
       "      <td>1.717917</td>\n",
       "      <td>0.283149</td>\n",
       "      <td>NaN</td>\n",
       "      <td>NaN</td>\n",
       "      <td>0.715976</td>\n",
       "      <td>16.865306</td>\n",
       "      <td>0.497110</td>\n",
       "      <td>NaN</td>\n",
       "      <td>NaN</td>\n",
       "    </tr>\n",
       "    <tr>\n",
       "      <th>2</th>\n",
       "      <td></td>\n",
       "      <td>2021-06-13 18:17:00</td>\n",
       "      <td>0.327 sec</td>\n",
       "      <td>2.0</td>\n",
       "      <td>0.448543</td>\n",
       "      <td>1.891987</td>\n",
       "      <td>0.275042</td>\n",
       "      <td>NaN</td>\n",
       "      <td>NaN</td>\n",
       "      <td>0.669641</td>\n",
       "      <td>12.482605</td>\n",
       "      <td>0.456647</td>\n",
       "      <td>NaN</td>\n",
       "      <td>NaN</td>\n",
       "    </tr>\n",
       "    <tr>\n",
       "      <th>3</th>\n",
       "      <td></td>\n",
       "      <td>2021-06-13 18:17:00</td>\n",
       "      <td>0.396 sec</td>\n",
       "      <td>3.0</td>\n",
       "      <td>0.437211</td>\n",
       "      <td>1.696279</td>\n",
       "      <td>0.259360</td>\n",
       "      <td>NaN</td>\n",
       "      <td>NaN</td>\n",
       "      <td>0.622983</td>\n",
       "      <td>9.084108</td>\n",
       "      <td>0.375723</td>\n",
       "      <td>NaN</td>\n",
       "      <td>NaN</td>\n",
       "    </tr>\n",
       "    <tr>\n",
       "      <th>4</th>\n",
       "      <td></td>\n",
       "      <td>2021-06-13 18:17:00</td>\n",
       "      <td>0.467 sec</td>\n",
       "      <td>4.0</td>\n",
       "      <td>0.427843</td>\n",
       "      <td>1.583138</td>\n",
       "      <td>0.242607</td>\n",
       "      <td>NaN</td>\n",
       "      <td>NaN</td>\n",
       "      <td>0.602338</td>\n",
       "      <td>7.564334</td>\n",
       "      <td>0.358382</td>\n",
       "      <td>NaN</td>\n",
       "      <td>NaN</td>\n",
       "    </tr>\n",
       "    <tr>\n",
       "      <th>5</th>\n",
       "      <td></td>\n",
       "      <td>2021-06-13 18:17:00</td>\n",
       "      <td>0.529 sec</td>\n",
       "      <td>5.0</td>\n",
       "      <td>0.432411</td>\n",
       "      <td>1.485930</td>\n",
       "      <td>0.256194</td>\n",
       "      <td>NaN</td>\n",
       "      <td>NaN</td>\n",
       "      <td>0.597705</td>\n",
       "      <td>6.986373</td>\n",
       "      <td>0.369942</td>\n",
       "      <td>NaN</td>\n",
       "      <td>NaN</td>\n",
       "    </tr>\n",
       "    <tr>\n",
       "      <th>6</th>\n",
       "      <td></td>\n",
       "      <td>2021-06-13 18:17:00</td>\n",
       "      <td>0.599 sec</td>\n",
       "      <td>6.0</td>\n",
       "      <td>0.428300</td>\n",
       "      <td>1.236798</td>\n",
       "      <td>0.250272</td>\n",
       "      <td>NaN</td>\n",
       "      <td>NaN</td>\n",
       "      <td>0.597472</td>\n",
       "      <td>6.458446</td>\n",
       "      <td>0.381503</td>\n",
       "      <td>NaN</td>\n",
       "      <td>NaN</td>\n",
       "    </tr>\n",
       "    <tr>\n",
       "      <th>7</th>\n",
       "      <td></td>\n",
       "      <td>2021-06-13 18:17:00</td>\n",
       "      <td>0.669 sec</td>\n",
       "      <td>7.0</td>\n",
       "      <td>0.427812</td>\n",
       "      <td>1.157160</td>\n",
       "      <td>0.254545</td>\n",
       "      <td>NaN</td>\n",
       "      <td>NaN</td>\n",
       "      <td>0.594959</td>\n",
       "      <td>5.744232</td>\n",
       "      <td>0.393064</td>\n",
       "      <td>NaN</td>\n",
       "      <td>NaN</td>\n",
       "    </tr>\n",
       "    <tr>\n",
       "      <th>8</th>\n",
       "      <td></td>\n",
       "      <td>2021-06-13 18:17:00</td>\n",
       "      <td>0.742 sec</td>\n",
       "      <td>8.0</td>\n",
       "      <td>0.426088</td>\n",
       "      <td>1.045757</td>\n",
       "      <td>0.260389</td>\n",
       "      <td>NaN</td>\n",
       "      <td>NaN</td>\n",
       "      <td>0.597327</td>\n",
       "      <td>5.589472</td>\n",
       "      <td>0.393064</td>\n",
       "      <td>NaN</td>\n",
       "      <td>NaN</td>\n",
       "    </tr>\n",
       "    <tr>\n",
       "      <th>9</th>\n",
       "      <td></td>\n",
       "      <td>2021-06-13 18:17:00</td>\n",
       "      <td>0.818 sec</td>\n",
       "      <td>9.0</td>\n",
       "      <td>0.421688</td>\n",
       "      <td>1.083290</td>\n",
       "      <td>0.241146</td>\n",
       "      <td>NaN</td>\n",
       "      <td>NaN</td>\n",
       "      <td>0.597772</td>\n",
       "      <td>5.069060</td>\n",
       "      <td>0.404624</td>\n",
       "      <td>NaN</td>\n",
       "      <td>NaN</td>\n",
       "    </tr>\n",
       "    <tr>\n",
       "      <th>10</th>\n",
       "      <td></td>\n",
       "      <td>2021-06-13 18:17:00</td>\n",
       "      <td>0.897 sec</td>\n",
       "      <td>10.0</td>\n",
       "      <td>0.422322</td>\n",
       "      <td>0.933135</td>\n",
       "      <td>0.243145</td>\n",
       "      <td>NaN</td>\n",
       "      <td>NaN</td>\n",
       "      <td>0.594339</td>\n",
       "      <td>5.030281</td>\n",
       "      <td>0.398844</td>\n",
       "      <td>NaN</td>\n",
       "      <td>NaN</td>\n",
       "    </tr>\n",
       "    <tr>\n",
       "      <th>11</th>\n",
       "      <td></td>\n",
       "      <td>2021-06-13 18:17:00</td>\n",
       "      <td>0.976 sec</td>\n",
       "      <td>11.0</td>\n",
       "      <td>0.413100</td>\n",
       "      <td>0.847269</td>\n",
       "      <td>0.227085</td>\n",
       "      <td>NaN</td>\n",
       "      <td>NaN</td>\n",
       "      <td>0.594247</td>\n",
       "      <td>5.043614</td>\n",
       "      <td>0.393064</td>\n",
       "      <td>NaN</td>\n",
       "      <td>NaN</td>\n",
       "    </tr>\n",
       "    <tr>\n",
       "      <th>12</th>\n",
       "      <td></td>\n",
       "      <td>2021-06-13 18:17:00</td>\n",
       "      <td>1.049 sec</td>\n",
       "      <td>12.0</td>\n",
       "      <td>0.412188</td>\n",
       "      <td>0.812521</td>\n",
       "      <td>0.233299</td>\n",
       "      <td>NaN</td>\n",
       "      <td>NaN</td>\n",
       "      <td>0.589762</td>\n",
       "      <td>5.020335</td>\n",
       "      <td>0.381503</td>\n",
       "      <td>NaN</td>\n",
       "      <td>NaN</td>\n",
       "    </tr>\n",
       "    <tr>\n",
       "      <th>13</th>\n",
       "      <td></td>\n",
       "      <td>2021-06-13 18:17:00</td>\n",
       "      <td>1.122 sec</td>\n",
       "      <td>13.0</td>\n",
       "      <td>0.408923</td>\n",
       "      <td>0.789662</td>\n",
       "      <td>0.225525</td>\n",
       "      <td>NaN</td>\n",
       "      <td>NaN</td>\n",
       "      <td>0.589938</td>\n",
       "      <td>4.856278</td>\n",
       "      <td>0.387283</td>\n",
       "      <td>NaN</td>\n",
       "      <td>NaN</td>\n",
       "    </tr>\n",
       "    <tr>\n",
       "      <th>14</th>\n",
       "      <td></td>\n",
       "      <td>2021-06-13 18:17:00</td>\n",
       "      <td>1.193 sec</td>\n",
       "      <td>14.0</td>\n",
       "      <td>0.407079</td>\n",
       "      <td>0.753719</td>\n",
       "      <td>0.221995</td>\n",
       "      <td>NaN</td>\n",
       "      <td>NaN</td>\n",
       "      <td>0.591122</td>\n",
       "      <td>4.676444</td>\n",
       "      <td>0.393064</td>\n",
       "      <td>NaN</td>\n",
       "      <td>NaN</td>\n",
       "    </tr>\n",
       "    <tr>\n",
       "      <th>15</th>\n",
       "      <td></td>\n",
       "      <td>2021-06-13 18:17:00</td>\n",
       "      <td>1.255 sec</td>\n",
       "      <td>15.0</td>\n",
       "      <td>0.405487</td>\n",
       "      <td>0.733449</td>\n",
       "      <td>0.217791</td>\n",
       "      <td>NaN</td>\n",
       "      <td>NaN</td>\n",
       "      <td>0.589423</td>\n",
       "      <td>4.672785</td>\n",
       "      <td>0.381503</td>\n",
       "      <td>NaN</td>\n",
       "      <td>NaN</td>\n",
       "    </tr>\n",
       "    <tr>\n",
       "      <th>16</th>\n",
       "      <td></td>\n",
       "      <td>2021-06-13 18:17:01</td>\n",
       "      <td>1.321 sec</td>\n",
       "      <td>16.0</td>\n",
       "      <td>0.402545</td>\n",
       "      <td>0.679345</td>\n",
       "      <td>0.213592</td>\n",
       "      <td>NaN</td>\n",
       "      <td>NaN</td>\n",
       "      <td>0.588487</td>\n",
       "      <td>4.326737</td>\n",
       "      <td>0.398844</td>\n",
       "      <td>NaN</td>\n",
       "      <td>NaN</td>\n",
       "    </tr>\n",
       "    <tr>\n",
       "      <th>17</th>\n",
       "      <td></td>\n",
       "      <td>2021-06-13 18:17:01</td>\n",
       "      <td>1.391 sec</td>\n",
       "      <td>17.0</td>\n",
       "      <td>0.398087</td>\n",
       "      <td>0.670611</td>\n",
       "      <td>0.205927</td>\n",
       "      <td>NaN</td>\n",
       "      <td>NaN</td>\n",
       "      <td>0.588709</td>\n",
       "      <td>4.332816</td>\n",
       "      <td>0.398844</td>\n",
       "      <td>NaN</td>\n",
       "      <td>NaN</td>\n",
       "    </tr>\n",
       "    <tr>\n",
       "      <th>18</th>\n",
       "      <td></td>\n",
       "      <td>2021-06-13 18:17:01</td>\n",
       "      <td>1.433 sec</td>\n",
       "      <td>18.0</td>\n",
       "      <td>0.412237</td>\n",
       "      <td>0.696365</td>\n",
       "      <td>0.232499</td>\n",
       "      <td>NaN</td>\n",
       "      <td>NaN</td>\n",
       "      <td>0.587531</td>\n",
       "      <td>4.120533</td>\n",
       "      <td>0.387283</td>\n",
       "      <td>NaN</td>\n",
       "      <td>NaN</td>\n",
       "    </tr>\n",
       "    <tr>\n",
       "      <th>19</th>\n",
       "      <td></td>\n",
       "      <td>2021-06-13 18:17:01</td>\n",
       "      <td>1.472 sec</td>\n",
       "      <td>19.0</td>\n",
       "      <td>0.410445</td>\n",
       "      <td>0.660675</td>\n",
       "      <td>0.228294</td>\n",
       "      <td>NaN</td>\n",
       "      <td>NaN</td>\n",
       "      <td>0.587100</td>\n",
       "      <td>4.120180</td>\n",
       "      <td>0.375723</td>\n",
       "      <td>NaN</td>\n",
       "      <td>NaN</td>\n",
       "    </tr>\n",
       "  </tbody>\n",
       "</table>\n",
       "</div>"
      ],
      "text/plain": [
       "                timestamp    duration  number_of_trees  training_rmse  \\\n",
       "0     2021-06-13 18:16:59   0.030 sec              0.0            NaN   \n",
       "1     2021-06-13 18:16:59   0.242 sec              1.0       0.448258   \n",
       "2     2021-06-13 18:17:00   0.327 sec              2.0       0.448543   \n",
       "3     2021-06-13 18:17:00   0.396 sec              3.0       0.437211   \n",
       "4     2021-06-13 18:17:00   0.467 sec              4.0       0.427843   \n",
       "5     2021-06-13 18:17:00   0.529 sec              5.0       0.432411   \n",
       "6     2021-06-13 18:17:00   0.599 sec              6.0       0.428300   \n",
       "7     2021-06-13 18:17:00   0.669 sec              7.0       0.427812   \n",
       "8     2021-06-13 18:17:00   0.742 sec              8.0       0.426088   \n",
       "9     2021-06-13 18:17:00   0.818 sec              9.0       0.421688   \n",
       "10    2021-06-13 18:17:00   0.897 sec             10.0       0.422322   \n",
       "11    2021-06-13 18:17:00   0.976 sec             11.0       0.413100   \n",
       "12    2021-06-13 18:17:00   1.049 sec             12.0       0.412188   \n",
       "13    2021-06-13 18:17:00   1.122 sec             13.0       0.408923   \n",
       "14    2021-06-13 18:17:00   1.193 sec             14.0       0.407079   \n",
       "15    2021-06-13 18:17:00   1.255 sec             15.0       0.405487   \n",
       "16    2021-06-13 18:17:01   1.321 sec             16.0       0.402545   \n",
       "17    2021-06-13 18:17:01   1.391 sec             17.0       0.398087   \n",
       "18    2021-06-13 18:17:01   1.433 sec             18.0       0.412237   \n",
       "19    2021-06-13 18:17:01   1.472 sec             19.0       0.410445   \n",
       "\n",
       "    training_logloss  training_classification_error  training_auc  \\\n",
       "0                NaN                            NaN           NaN   \n",
       "1           1.717917                       0.283149           NaN   \n",
       "2           1.891987                       0.275042           NaN   \n",
       "3           1.696279                       0.259360           NaN   \n",
       "4           1.583138                       0.242607           NaN   \n",
       "5           1.485930                       0.256194           NaN   \n",
       "6           1.236798                       0.250272           NaN   \n",
       "7           1.157160                       0.254545           NaN   \n",
       "8           1.045757                       0.260389           NaN   \n",
       "9           1.083290                       0.241146           NaN   \n",
       "10          0.933135                       0.243145           NaN   \n",
       "11          0.847269                       0.227085           NaN   \n",
       "12          0.812521                       0.233299           NaN   \n",
       "13          0.789662                       0.225525           NaN   \n",
       "14          0.753719                       0.221995           NaN   \n",
       "15          0.733449                       0.217791           NaN   \n",
       "16          0.679345                       0.213592           NaN   \n",
       "17          0.670611                       0.205927           NaN   \n",
       "18          0.696365                       0.232499           NaN   \n",
       "19          0.660675                       0.228294           NaN   \n",
       "\n",
       "    training_pr_auc  validation_rmse  validation_logloss  \\\n",
       "0               NaN              NaN                 NaN   \n",
       "1               NaN         0.715976           16.865306   \n",
       "2               NaN         0.669641           12.482605   \n",
       "3               NaN         0.622983            9.084108   \n",
       "4               NaN         0.602338            7.564334   \n",
       "5               NaN         0.597705            6.986373   \n",
       "6               NaN         0.597472            6.458446   \n",
       "7               NaN         0.594959            5.744232   \n",
       "8               NaN         0.597327            5.589472   \n",
       "9               NaN         0.597772            5.069060   \n",
       "10              NaN         0.594339            5.030281   \n",
       "11              NaN         0.594247            5.043614   \n",
       "12              NaN         0.589762            5.020335   \n",
       "13              NaN         0.589938            4.856278   \n",
       "14              NaN         0.591122            4.676444   \n",
       "15              NaN         0.589423            4.672785   \n",
       "16              NaN         0.588487            4.326737   \n",
       "17              NaN         0.588709            4.332816   \n",
       "18              NaN         0.587531            4.120533   \n",
       "19              NaN         0.587100            4.120180   \n",
       "\n",
       "    validation_classification_error  validation_auc  validation_pr_auc  \n",
       "0                               NaN             NaN                NaN  \n",
       "1                          0.497110             NaN                NaN  \n",
       "2                          0.456647             NaN                NaN  \n",
       "3                          0.375723             NaN                NaN  \n",
       "4                          0.358382             NaN                NaN  \n",
       "5                          0.369942             NaN                NaN  \n",
       "6                          0.381503             NaN                NaN  \n",
       "7                          0.393064             NaN                NaN  \n",
       "8                          0.393064             NaN                NaN  \n",
       "9                          0.404624             NaN                NaN  \n",
       "10                         0.398844             NaN                NaN  \n",
       "11                         0.393064             NaN                NaN  \n",
       "12                         0.381503             NaN                NaN  \n",
       "13                         0.387283             NaN                NaN  \n",
       "14                         0.393064             NaN                NaN  \n",
       "15                         0.381503             NaN                NaN  \n",
       "16                         0.398844             NaN                NaN  \n",
       "17                         0.398844             NaN                NaN  \n",
       "18                         0.387283             NaN                NaN  \n",
       "19                         0.375723             NaN                NaN  "
      ]
     },
     "metadata": {},
     "output_type": "display_data"
    },
    {
     "name": "stdout",
     "output_type": "stream",
     "text": [
      "\n",
      "See the whole table with table.as_data_frame()\n",
      "\n",
      "Variable Importances: \n"
     ]
    },
    {
     "data": {
      "text/html": [
       "<div>\n",
       "<style scoped>\n",
       "    .dataframe tbody tr th:only-of-type {\n",
       "        vertical-align: middle;\n",
       "    }\n",
       "\n",
       "    .dataframe tbody tr th {\n",
       "        vertical-align: top;\n",
       "    }\n",
       "\n",
       "    .dataframe thead th {\n",
       "        text-align: right;\n",
       "    }\n",
       "</style>\n",
       "<table border=\"1\" class=\"dataframe\">\n",
       "  <thead>\n",
       "    <tr style=\"text-align: right;\">\n",
       "      <th></th>\n",
       "      <th>variable</th>\n",
       "      <th>relative_importance</th>\n",
       "      <th>scaled_importance</th>\n",
       "      <th>percentage</th>\n",
       "    </tr>\n",
       "  </thead>\n",
       "  <tbody>\n",
       "    <tr>\n",
       "      <th>0</th>\n",
       "      <td>Zip Code</td>\n",
       "      <td>23388.265625</td>\n",
       "      <td>1.000000</td>\n",
       "      <td>0.269044</td>\n",
       "    </tr>\n",
       "    <tr>\n",
       "      <th>1</th>\n",
       "      <td>Capacity</td>\n",
       "      <td>13968.651367</td>\n",
       "      <td>0.597250</td>\n",
       "      <td>0.160687</td>\n",
       "    </tr>\n",
       "    <tr>\n",
       "      <th>2</th>\n",
       "      <td>City</td>\n",
       "      <td>12460.164062</td>\n",
       "      <td>0.532753</td>\n",
       "      <td>0.143334</td>\n",
       "    </tr>\n",
       "    <tr>\n",
       "      <th>3</th>\n",
       "      <td>service time</td>\n",
       "      <td>11721.568359</td>\n",
       "      <td>0.501173</td>\n",
       "      <td>0.134838</td>\n",
       "    </tr>\n",
       "    <tr>\n",
       "      <th>4</th>\n",
       "      <td>Age Group</td>\n",
       "      <td>10515.106445</td>\n",
       "      <td>0.449589</td>\n",
       "      <td>0.120959</td>\n",
       "    </tr>\n",
       "    <tr>\n",
       "      <th>5</th>\n",
       "      <td>County</td>\n",
       "      <td>8477.124023</td>\n",
       "      <td>0.362452</td>\n",
       "      <td>0.097516</td>\n",
       "    </tr>\n",
       "    <tr>\n",
       "      <th>6</th>\n",
       "      <td>Type of Child Care</td>\n",
       "      <td>5050.458496</td>\n",
       "      <td>0.215940</td>\n",
       "      <td>0.058097</td>\n",
       "    </tr>\n",
       "    <tr>\n",
       "      <th>7</th>\n",
       "      <td>InGovProgram</td>\n",
       "      <td>1349.599976</td>\n",
       "      <td>0.057704</td>\n",
       "      <td>0.015525</td>\n",
       "    </tr>\n",
       "  </tbody>\n",
       "</table>\n",
       "</div>"
      ],
      "text/plain": [
       "             variable  relative_importance  scaled_importance  percentage\n",
       "0            Zip Code         23388.265625           1.000000    0.269044\n",
       "1            Capacity         13968.651367           0.597250    0.160687\n",
       "2                City         12460.164062           0.532753    0.143334\n",
       "3        service time         11721.568359           0.501173    0.134838\n",
       "4           Age Group         10515.106445           0.449589    0.120959\n",
       "5              County          8477.124023           0.362452    0.097516\n",
       "6  Type of Child Care          5050.458496           0.215940    0.058097\n",
       "7        InGovProgram          1349.599976           0.057704    0.015525"
      ]
     },
     "metadata": {},
     "output_type": "display_data"
    },
    {
     "data": {
      "text/plain": []
     },
     "execution_count": 29,
     "metadata": {},
     "output_type": "execute_result"
    }
   ],
   "source": [
    "#Check model summary\n",
    "model"
   ]
  },
  {
   "cell_type": "code",
   "execution_count": 30,
   "metadata": {},
   "outputs": [
    {
     "data": {
      "image/png": "[encoded data removed]",
      "text/plain": [
       "<Figure size 1008x720 with 1 Axes>"
      ]
     },
     "metadata": {
      "needs_background": "light"
     },
     "output_type": "display_data"
    }
   ],
   "source": [
    "model.varimp_plot()"
   ]
  },
  {
   "cell_type": "code",
   "execution_count": 31,
   "metadata": {},
   "outputs": [
    {
     "data": {
      "image/png": "[encoded data removed]",
      "text/plain": [
       "<Figure size 720x576 with 1 Axes>"
      ]
     },
     "metadata": {
      "needs_background": "light"
     },
     "output_type": "display_data"
    }
   ],
   "source": [
    "# Feature importance\n",
    "importance = model.varimp(use_pandas=True)\n",
    "\n",
    "fig, ax = plt.subplots(figsize=(10, 8))\n",
    "sns.barplot(x='scaled_importance', y='variable', data=importance)\n",
    "plt.show()"
   ]
  },
  {
   "cell_type": "code",
   "execution_count": 32,
   "metadata": {
    "scrolled": true
   },
   "outputs": [
    {
     "name": "stdout",
     "output_type": "stream",
     "text": [
      "\n",
      "ModelMetricsMultinomial: drf\n",
      "** Reported on test data. **\n",
      "\n",
      "MSE: 0.309345447676773\n",
      "RMSE: 0.5561883203347343\n",
      "LogLoss: 1.6867187029128397\n",
      "Mean Per-Class Error: 0.774931129476584\n",
      "AUC: NaN\n",
      "AUCPR: NaN\n",
      "Multinomial auc values: Table is not computed because it is disabled (model parameter 'auc_type' is set to AUTO or NONE) or due to domain size (maximum is 50 domains).\n",
      "Multinomial auc_pr values: Table is not computed because it is disabled (model parameter 'auc_type' is set to AUTO or NONE) or due to domain size (maximum is 50 domains).\n",
      "\n",
      "Confusion Matrix: Row labels: Actual class; Column labels: Predicted class\n"
     ]
    },
    {
     "data": {
      "text/html": [
       "<div>\n",
       "<style scoped>\n",
       "    .dataframe tbody tr th:only-of-type {\n",
       "        vertical-align: middle;\n",
       "    }\n",
       "\n",
       "    .dataframe tbody tr th {\n",
       "        vertical-align: top;\n",
       "    }\n",
       "\n",
       "    .dataframe thead th {\n",
       "        text-align: right;\n",
       "    }\n",
       "</style>\n",
       "<table border=\"1\" class=\"dataframe\">\n",
       "  <thead>\n",
       "    <tr style=\"text-align: right;\">\n",
       "      <th></th>\n",
       "      <th>0</th>\n",
       "      <th>1</th>\n",
       "      <th>2</th>\n",
       "      <th>3</th>\n",
       "      <th>4</th>\n",
       "      <th>5</th>\n",
       "      <th>Error</th>\n",
       "      <th>Rate</th>\n",
       "    </tr>\n",
       "  </thead>\n",
       "  <tbody>\n",
       "    <tr>\n",
       "      <th>0</th>\n",
       "      <td>115.0</td>\n",
       "      <td>0.0</td>\n",
       "      <td>0.0</td>\n",
       "      <td>2.0</td>\n",
       "      <td>1.0</td>\n",
       "      <td>3.0</td>\n",
       "      <td>0.049587</td>\n",
       "      <td>6 / 121</td>\n",
       "    </tr>\n",
       "    <tr>\n",
       "      <th>1</th>\n",
       "      <td>6.0</td>\n",
       "      <td>0.0</td>\n",
       "      <td>0.0</td>\n",
       "      <td>0.0</td>\n",
       "      <td>0.0</td>\n",
       "      <td>0.0</td>\n",
       "      <td>1.000000</td>\n",
       "      <td>6 / 6</td>\n",
       "    </tr>\n",
       "    <tr>\n",
       "      <th>2</th>\n",
       "      <td>4.0</td>\n",
       "      <td>0.0</td>\n",
       "      <td>0.0</td>\n",
       "      <td>1.0</td>\n",
       "      <td>1.0</td>\n",
       "      <td>4.0</td>\n",
       "      <td>1.000000</td>\n",
       "      <td>10 / 10</td>\n",
       "    </tr>\n",
       "    <tr>\n",
       "      <th>3</th>\n",
       "      <td>14.0</td>\n",
       "      <td>0.0</td>\n",
       "      <td>1.0</td>\n",
       "      <td>0.0</td>\n",
       "      <td>1.0</td>\n",
       "      <td>4.0</td>\n",
       "      <td>1.000000</td>\n",
       "      <td>20 / 20</td>\n",
       "    </tr>\n",
       "    <tr>\n",
       "      <th>4</th>\n",
       "      <td>4.0</td>\n",
       "      <td>0.0</td>\n",
       "      <td>0.0</td>\n",
       "      <td>0.0</td>\n",
       "      <td>0.0</td>\n",
       "      <td>3.0</td>\n",
       "      <td>1.000000</td>\n",
       "      <td>7 / 7</td>\n",
       "    </tr>\n",
       "    <tr>\n",
       "      <th>5</th>\n",
       "      <td>18.0</td>\n",
       "      <td>0.0</td>\n",
       "      <td>1.0</td>\n",
       "      <td>2.0</td>\n",
       "      <td>0.0</td>\n",
       "      <td>14.0</td>\n",
       "      <td>0.600000</td>\n",
       "      <td>21 / 35</td>\n",
       "    </tr>\n",
       "    <tr>\n",
       "      <th>6</th>\n",
       "      <td>161.0</td>\n",
       "      <td>0.0</td>\n",
       "      <td>2.0</td>\n",
       "      <td>5.0</td>\n",
       "      <td>3.0</td>\n",
       "      <td>28.0</td>\n",
       "      <td>0.351759</td>\n",
       "      <td>70 / 199</td>\n",
       "    </tr>\n",
       "  </tbody>\n",
       "</table>\n",
       "</div>"
      ],
      "text/plain": [
       "       0    1    2    3    4     5     Error      Rate\n",
       "0  115.0  0.0  0.0  2.0  1.0   3.0  0.049587   6 / 121\n",
       "1    6.0  0.0  0.0  0.0  0.0   0.0  1.000000     6 / 6\n",
       "2    4.0  0.0  0.0  1.0  1.0   4.0  1.000000   10 / 10\n",
       "3   14.0  0.0  1.0  0.0  1.0   4.0  1.000000   20 / 20\n",
       "4    4.0  0.0  0.0  0.0  0.0   3.0  1.000000     7 / 7\n",
       "5   18.0  0.0  1.0  2.0  0.0  14.0  0.600000   21 / 35\n",
       "6  161.0  0.0  2.0  5.0  3.0  28.0  0.351759  70 / 199"
      ]
     },
     "metadata": {},
     "output_type": "display_data"
    },
    {
     "name": "stdout",
     "output_type": "stream",
     "text": [
      "\n",
      "Top-6 Hit Ratios: \n"
     ]
    },
    {
     "data": {
      "text/html": [
       "<div>\n",
       "<style scoped>\n",
       "    .dataframe tbody tr th:only-of-type {\n",
       "        vertical-align: middle;\n",
       "    }\n",
       "\n",
       "    .dataframe tbody tr th {\n",
       "        vertical-align: top;\n",
       "    }\n",
       "\n",
       "    .dataframe thead th {\n",
       "        text-align: right;\n",
       "    }\n",
       "</style>\n",
       "<table border=\"1\" class=\"dataframe\">\n",
       "  <thead>\n",
       "    <tr style=\"text-align: right;\">\n",
       "      <th></th>\n",
       "      <th>k</th>\n",
       "      <th>hit_ratio</th>\n",
       "    </tr>\n",
       "  </thead>\n",
       "  <tbody>\n",
       "    <tr>\n",
       "      <th>0</th>\n",
       "      <td>1</td>\n",
       "      <td>0.648241</td>\n",
       "    </tr>\n",
       "    <tr>\n",
       "      <th>1</th>\n",
       "      <td>2</td>\n",
       "      <td>0.804020</td>\n",
       "    </tr>\n",
       "    <tr>\n",
       "      <th>2</th>\n",
       "      <td>3</td>\n",
       "      <td>0.874372</td>\n",
       "    </tr>\n",
       "    <tr>\n",
       "      <th>3</th>\n",
       "      <td>4</td>\n",
       "      <td>0.924623</td>\n",
       "    </tr>\n",
       "    <tr>\n",
       "      <th>4</th>\n",
       "      <td>5</td>\n",
       "      <td>0.979900</td>\n",
       "    </tr>\n",
       "    <tr>\n",
       "      <th>5</th>\n",
       "      <td>6</td>\n",
       "      <td>1.000000</td>\n",
       "    </tr>\n",
       "  </tbody>\n",
       "</table>\n",
       "</div>"
      ],
      "text/plain": [
       "   k  hit_ratio\n",
       "0  1   0.648241\n",
       "1  2   0.804020\n",
       "2  3   0.874372\n",
       "3  4   0.924623\n",
       "4  5   0.979900\n",
       "5  6   1.000000"
      ]
     },
     "metadata": {},
     "output_type": "display_data"
    },
    {
     "data": {
      "text/plain": []
     },
     "execution_count": 32,
     "metadata": {},
     "output_type": "execute_result"
    }
   ],
   "source": [
    "#check prediction performance\n",
    "model.model_performance(test_data=test)"
   ]
  },
  {
   "cell_type": "code",
   "execution_count": 33,
   "metadata": {},
   "outputs": [
    {
     "data": {
      "text/plain": [
       "0    550\n",
       "5    167\n",
       "3     93\n",
       "2     59\n",
       "4     58\n",
       "1     25\n",
       "Name: Delaware STARS Level, dtype: int64"
      ]
     },
     "execution_count": 33,
     "metadata": {},
     "output_type": "execute_result"
    }
   ],
   "source": [
    "#check target sample size of each category\n",
    "df['Delaware STARS Level'].value_counts()"
   ]
  },
  {
   "cell_type": "markdown",
   "metadata": {},
   "source": [
    "**Comments:** \n",
    "We get a model with very poor prefomace as we can see from the results using test set. **The Mean Per-Class Error is as 0.775** and the confusion matrix indicates a bad performance.\n",
    "\n",
    "**Potential reason** is the limitation of sample size, especially for level 1, level 2, level 3, and level 4. The test set has error rate of 1 for those four. \n",
    "\n",
    "One **improvement idea** is to combine the four categories, so that we have level 0, level (1&2&3&4), level 5. \n",
    "By doing this, the sample size of each category seems to be balanced a little bit."
   ]
  },
  {
   "cell_type": "code",
   "execution_count": 34,
   "metadata": {},
   "outputs": [],
   "source": [
    "#create a new attribute named rank to combine level 1 to level 4\n",
    "\n",
    "df.loc[(df['Delaware STARS Level']>0) & (df['Delaware STARS Level']<5),'Rank']=2\n",
    "df.loc[(df['Delaware STARS Level']==0), 'Rank']=0\n",
    "df.loc[(df['Delaware STARS Level']==5), 'Rank']=5\n"
   ]
  },
  {
   "cell_type": "code",
   "execution_count": 35,
   "metadata": {},
   "outputs": [
    {
     "data": {
      "text/plain": [
       "0.0    550\n",
       "2.0    235\n",
       "5.0    167\n",
       "Name: Rank, dtype: int64"
      ]
     },
     "execution_count": 35,
     "metadata": {},
     "output_type": "execute_result"
    }
   ],
   "source": [
    "#check if we have done it correctly\n",
    "df['Rank'].value_counts()"
   ]
  },
  {
   "cell_type": "markdown",
   "metadata": {},
   "source": [
    "### Redo the random forest classification using Rank as the response variable"
   ]
  },
  {
   "cell_type": "code",
   "execution_count": 36,
   "metadata": {},
   "outputs": [
    {
     "name": "stdout",
     "output_type": "stream",
     "text": [
      "Parse progress: |█████████████████████████████████████████████████████████| 100%\n"
     ]
    }
   ],
   "source": [
    "# Transform df to H2O Frame\n",
    "h2o_df = H2OFrame(df)\n",
    "\n"
   ]
  },
  {
   "cell_type": "code",
   "execution_count": 37,
   "metadata": {},
   "outputs": [],
   "source": [
    "h2o_df['Zip Code'] = h2o_df['Zip Code'].asfactor()\n",
    "h2o_df['Delaware STARS Level'] = h2o_df['Delaware STARS Level'].asfactor()\n",
    "h2o_df['InGovProgram'] = h2o_df['InGovProgram'].asfactor()\n",
    "h2o_df['Rank'] = h2o_df['Rank'].asfactor()"
   ]
  },
  {
   "cell_type": "code",
   "execution_count": 38,
   "metadata": {
    "scrolled": true
   },
   "outputs": [
    {
     "data": {
      "text/html": [
       "<table>\n",
       "<thead>\n",
       "<tr><th>       </th><th>County    </th><th>Type of Child Care        </th><th>City      </th><th>Zip Code  </th><th>Age Group                    </th><th>Capacity         </th><th>Opening Time       </th><th>Closing Time       </th><th>Delaware STARS Level  </th><th>service time      </th><th>InGovProgram  </th><th>Rank  </th></tr>\n",
       "</thead>\n",
       "<tbody>\n",
       "<tr><td>type   </td><td>enum      </td><td>enum                      </td><td>enum      </td><td>enum      </td><td>enum                         </td><td>int              </td><td>time               </td><td>time               </td><td>enum                  </td><td>real              </td><td>enum          </td><td>enum  </td></tr>\n",
       "<tr><td>mins   </td><td>          </td><td>                          </td><td>          </td><td>          </td><td>                             </td><td>5.0              </td><td>1623558600000.0    </td><td>1623542400000.0    </td><td>                      </td><td>2.5               </td><td>              </td><td>      </td></tr>\n",
       "<tr><td>mean   </td><td>          </td><td>                          </td><td>          </td><td>          </td><td>                             </td><td>51.38760504201686</td><td>1623567563760.5022 </td><td>1623606153466.387  </td><td>                      </td><td>11.047093837535034</td><td>              </td><td>      </td></tr>\n",
       "<tr><td>maxs   </td><td>          </td><td>                          </td><td>          </td><td>          </td><td>                             </td><td>585.0            </td><td>1623607200000.0    </td><td>1623627000000.0    </td><td>                      </td><td>23.5              </td><td>              </td><td>      </td></tr>\n",
       "<tr><td>sigma  </td><td>          </td><td>                          </td><td>          </td><td>          </td><td>                             </td><td>64.18222917843241</td><td>4893017.379120079  </td><td>8840531.87001737   </td><td>                      </td><td>2.5455712771987526</td><td>              </td><td>      </td></tr>\n",
       "<tr><td>zeros  </td><td>          </td><td>                          </td><td>          </td><td>          </td><td>                             </td><td>0                </td><td>0                  </td><td>0                  </td><td>                      </td><td>0                 </td><td>              </td><td>      </td></tr>\n",
       "<tr><td>missing</td><td>0         </td><td>0                         </td><td>0         </td><td>0         </td><td>0                            </td><td>0                </td><td>0                  </td><td>0                  </td><td>0                     </td><td>0                 </td><td>0             </td><td>0     </td></tr>\n",
       "<tr><td>0      </td><td>Sussex    </td><td>Licensed Family Child Care</td><td>GEORGETOWN</td><td>19947     </td><td>Infant through Pre-School    </td><td>9.0              </td><td>2021-06-13 07:30:00</td><td>2021-06-13 17:00:00</td><td>0                     </td><td>9.5               </td><td>1             </td><td>0     </td></tr>\n",
       "<tr><td>1      </td><td>New Castle</td><td>Licensed Child Care Center</td><td>WILMINGTON</td><td>19801     </td><td>Infant through Pre-School    </td><td>99.0             </td><td>2021-06-13 06:45:00</td><td>2021-06-13 18:00:00</td><td>5                     </td><td>11.25             </td><td>1             </td><td>5     </td></tr>\n",
       "<tr><td>2      </td><td>New Castle</td><td>Licensed Family Child Care</td><td>WILMINGTON</td><td>19802     </td><td>Infant through School-Age    </td><td>9.0              </td><td>2021-06-13 07:00:00</td><td>2021-06-13 17:00:00</td><td>0                     </td><td>10.0              </td><td>1             </td><td>0     </td></tr>\n",
       "<tr><td>3      </td><td>New Castle</td><td>Licensed Family Child Care</td><td>WILMINGTON</td><td>19802     </td><td>Infant through School-Age    </td><td>9.0              </td><td>2021-06-13 15:00:00</td><td>2021-06-13 23:00:00</td><td>0                     </td><td>8.0               </td><td>1             </td><td>0     </td></tr>\n",
       "<tr><td>4      </td><td>New Castle</td><td>Licensed Family Child Care</td><td>NEW CASTLE</td><td>19720     </td><td>Infant through School-Age    </td><td>9.0              </td><td>2021-06-13 07:00:00</td><td>2021-06-13 18:00:00</td><td>0                     </td><td>11.0              </td><td>1             </td><td>0     </td></tr>\n",
       "<tr><td>5      </td><td>NEW CASTLE</td><td>Licensed Child Care Center</td><td>WILMINGTON</td><td>19801     </td><td>Pre-School through School-Age</td><td>55.0             </td><td>2021-06-13 07:30:00</td><td>2021-06-13 18:00:00</td><td>0                     </td><td>10.5              </td><td>1             </td><td>0     </td></tr>\n",
       "<tr><td>6      </td><td>New Castle</td><td>Licensed Family Child Care</td><td>WILMINGTON</td><td>19803     </td><td>Infant through School-Age    </td><td>9.0              </td><td>2021-06-13 07:00:00</td><td>2021-06-13 17:30:00</td><td>0                     </td><td>10.5              </td><td>1             </td><td>0     </td></tr>\n",
       "<tr><td>7      </td><td>NEW CASTLE</td><td>Licensed Family Child Care</td><td>MIDDLETOWN</td><td>19709     </td><td>Infant through School-Age    </td><td>9.0              </td><td>2021-06-13 07:30:00</td><td>2021-06-13 22:30:00</td><td>0                     </td><td>15.0              </td><td>1             </td><td>0     </td></tr>\n",
       "<tr><td>8      </td><td>Sussex    </td><td>Licensed Family Child Care</td><td>MILTON    </td><td>19968     </td><td>Infant through School-Age    </td><td>9.0              </td><td>2021-06-13 07:30:00</td><td>2021-06-13 16:30:00</td><td>0                     </td><td>9.0               </td><td>1             </td><td>0     </td></tr>\n",
       "<tr><td>9      </td><td>New Castle</td><td>Licensed Family Child Care</td><td>BEAR      </td><td>19701     </td><td>Infant through School-Age    </td><td>9.0              </td><td>2021-06-13 07:00:00</td><td>2021-06-13 16:30:00</td><td>2                     </td><td>9.5               </td><td>1             </td><td>2     </td></tr>\n",
       "</tbody>\n",
       "</table>"
      ]
     },
     "metadata": {},
     "output_type": "display_data"
    }
   ],
   "source": [
    "h2o_df.summary()"
   ]
  },
  {
   "cell_type": "code",
   "execution_count": 39,
   "metadata": {},
   "outputs": [],
   "source": [
    "# Split into training, valid, and test dataset\n",
    "train, valid, test = h2o_df.split_frame([0.6, 0.2], seed=42)\n",
    "\n",
    "feature = ['County', 'Type of Child Care', 'City', 'Zip Code', 'Age Group','Capacity','service time','InGovProgram']\n",
    "target = 'Rank'"
   ]
  },
  {
   "cell_type": "code",
   "execution_count": 40,
   "metadata": {},
   "outputs": [
    {
     "name": "stdout",
     "output_type": "stream",
     "text": [
      "drf Model Build progress: |███████████████████████████████████████████████| 100%\n"
     ]
    }
   ],
   "source": [
    "\n",
    "# Build random forest model2\n",
    "model2 = H2ORandomForestEstimator(balance_classes=True, ntrees=100, max_depth=20, \n",
    "                                 mtries=-1, seed=42, score_each_iteration=True)\n",
    "model2.train(x=feature, y=target, training_frame=train, validation_frame=valid)"
   ]
  },
  {
   "cell_type": "code",
   "execution_count": 41,
   "metadata": {
    "scrolled": true
   },
   "outputs": [
    {
     "name": "stdout",
     "output_type": "stream",
     "text": [
      "Model Details\n",
      "=============\n",
      "H2ORandomForestEstimator :  Distributed Random Forest\n",
      "Model Key:  DRF_model_python_1623622614850_2\n",
      "\n",
      "\n",
      "Model Summary: \n"
     ]
    },
    {
     "data": {
      "text/html": [
       "<div>\n",
       "<style scoped>\n",
       "    .dataframe tbody tr th:only-of-type {\n",
       "        vertical-align: middle;\n",
       "    }\n",
       "\n",
       "    .dataframe tbody tr th {\n",
       "        vertical-align: top;\n",
       "    }\n",
       "\n",
       "    .dataframe thead th {\n",
       "        text-align: right;\n",
       "    }\n",
       "</style>\n",
       "<table border=\"1\" class=\"dataframe\">\n",
       "  <thead>\n",
       "    <tr style=\"text-align: right;\">\n",
       "      <th></th>\n",
       "      <th></th>\n",
       "      <th>number_of_trees</th>\n",
       "      <th>number_of_internal_trees</th>\n",
       "      <th>model_size_in_bytes</th>\n",
       "      <th>min_depth</th>\n",
       "      <th>max_depth</th>\n",
       "      <th>mean_depth</th>\n",
       "      <th>min_leaves</th>\n",
       "      <th>max_leaves</th>\n",
       "      <th>mean_leaves</th>\n",
       "    </tr>\n",
       "  </thead>\n",
       "  <tbody>\n",
       "    <tr>\n",
       "      <th>0</th>\n",
       "      <td></td>\n",
       "      <td>100.0</td>\n",
       "      <td>300.0</td>\n",
       "      <td>510567.0</td>\n",
       "      <td>11.0</td>\n",
       "      <td>20.0</td>\n",
       "      <td>16.636667</td>\n",
       "      <td>64.0</td>\n",
       "      <td>158.0</td>\n",
       "      <td>108.59</td>\n",
       "    </tr>\n",
       "  </tbody>\n",
       "</table>\n",
       "</div>"
      ],
      "text/plain": [
       "     number_of_trees  number_of_internal_trees  model_size_in_bytes  \\\n",
       "0              100.0                     300.0             510567.0   \n",
       "\n",
       "   min_depth  max_depth  mean_depth  min_leaves  max_leaves  mean_leaves  \n",
       "0       11.0       20.0   16.636667        64.0       158.0       108.59  "
      ]
     },
     "metadata": {},
     "output_type": "display_data"
    },
    {
     "name": "stdout",
     "output_type": "stream",
     "text": [
      "\n",
      "\n",
      "ModelMetricsMultinomial: drf\n",
      "** Reported on train data. **\n",
      "\n",
      "MSE: 0.14302707643649132\n",
      "RMSE: 0.3781892071919707\n",
      "LogLoss: 0.44968903338824684\n",
      "Mean Per-Class Error: 0.1826781349829698\n",
      "AUC: NaN\n",
      "AUCPR: NaN\n",
      "Multinomial auc values: Table is not computed because it is disabled (model parameter 'auc_type' is set to AUTO or NONE) or due to domain size (maximum is 50 domains).\n",
      "Multinomial auc_pr values: Table is not computed because it is disabled (model parameter 'auc_type' is set to AUTO or NONE) or due to domain size (maximum is 50 domains).\n",
      "\n",
      "Confusion Matrix: Row labels: Actual class; Column labels: Predicted class\n"
     ]
    },
    {
     "data": {
      "text/html": [
       "<div>\n",
       "<style scoped>\n",
       "    .dataframe tbody tr th:only-of-type {\n",
       "        vertical-align: middle;\n",
       "    }\n",
       "\n",
       "    .dataframe tbody tr th {\n",
       "        vertical-align: top;\n",
       "    }\n",
       "\n",
       "    .dataframe thead th {\n",
       "        text-align: right;\n",
       "    }\n",
       "</style>\n",
       "<table border=\"1\" class=\"dataframe\">\n",
       "  <thead>\n",
       "    <tr style=\"text-align: right;\">\n",
       "      <th></th>\n",
       "      <th>0</th>\n",
       "      <th>2</th>\n",
       "      <th>5</th>\n",
       "      <th>Error</th>\n",
       "      <th>Rate</th>\n",
       "    </tr>\n",
       "  </thead>\n",
       "  <tbody>\n",
       "    <tr>\n",
       "      <th>0</th>\n",
       "      <td>277.0</td>\n",
       "      <td>36.0</td>\n",
       "      <td>14.0</td>\n",
       "      <td>0.152905</td>\n",
       "      <td>50 / 327</td>\n",
       "    </tr>\n",
       "    <tr>\n",
       "      <th>1</th>\n",
       "      <td>94.0</td>\n",
       "      <td>232.0</td>\n",
       "      <td>4.0</td>\n",
       "      <td>0.296970</td>\n",
       "      <td>98 / 330</td>\n",
       "    </tr>\n",
       "    <tr>\n",
       "      <th>2</th>\n",
       "      <td>24.0</td>\n",
       "      <td>8.0</td>\n",
       "      <td>294.0</td>\n",
       "      <td>0.098160</td>\n",
       "      <td>32 / 326</td>\n",
       "    </tr>\n",
       "    <tr>\n",
       "      <th>3</th>\n",
       "      <td>395.0</td>\n",
       "      <td>276.0</td>\n",
       "      <td>312.0</td>\n",
       "      <td>0.183113</td>\n",
       "      <td>180 / 983</td>\n",
       "    </tr>\n",
       "  </tbody>\n",
       "</table>\n",
       "</div>"
      ],
      "text/plain": [
       "       0      2      5     Error       Rate\n",
       "0  277.0   36.0   14.0  0.152905   50 / 327\n",
       "1   94.0  232.0    4.0  0.296970   98 / 330\n",
       "2   24.0    8.0  294.0  0.098160   32 / 326\n",
       "3  395.0  276.0  312.0  0.183113  180 / 983"
      ]
     },
     "metadata": {},
     "output_type": "display_data"
    },
    {
     "name": "stdout",
     "output_type": "stream",
     "text": [
      "\n",
      "Top-3 Hit Ratios: \n"
     ]
    },
    {
     "data": {
      "text/html": [
       "<div>\n",
       "<style scoped>\n",
       "    .dataframe tbody tr th:only-of-type {\n",
       "        vertical-align: middle;\n",
       "    }\n",
       "\n",
       "    .dataframe tbody tr th {\n",
       "        vertical-align: top;\n",
       "    }\n",
       "\n",
       "    .dataframe thead th {\n",
       "        text-align: right;\n",
       "    }\n",
       "</style>\n",
       "<table border=\"1\" class=\"dataframe\">\n",
       "  <thead>\n",
       "    <tr style=\"text-align: right;\">\n",
       "      <th></th>\n",
       "      <th>k</th>\n",
       "      <th>hit_ratio</th>\n",
       "    </tr>\n",
       "  </thead>\n",
       "  <tbody>\n",
       "    <tr>\n",
       "      <th>0</th>\n",
       "      <td>1</td>\n",
       "      <td>0.816887</td>\n",
       "    </tr>\n",
       "    <tr>\n",
       "      <th>1</th>\n",
       "      <td>2</td>\n",
       "      <td>0.982706</td>\n",
       "    </tr>\n",
       "    <tr>\n",
       "      <th>2</th>\n",
       "      <td>3</td>\n",
       "      <td>1.000000</td>\n",
       "    </tr>\n",
       "  </tbody>\n",
       "</table>\n",
       "</div>"
      ],
      "text/plain": [
       "   k  hit_ratio\n",
       "0  1   0.816887\n",
       "1  2   0.982706\n",
       "2  3   1.000000"
      ]
     },
     "metadata": {},
     "output_type": "display_data"
    },
    {
     "name": "stdout",
     "output_type": "stream",
     "text": [
      "\n",
      "ModelMetricsMultinomial: drf\n",
      "** Reported on validation data. **\n",
      "\n",
      "MSE: 0.294830937626497\n",
      "RMSE: 0.5429833677254737\n",
      "LogLoss: 1.0141456356648395\n",
      "Mean Per-Class Error: 0.5144850733086027\n",
      "AUC: NaN\n",
      "AUCPR: NaN\n",
      "Multinomial auc values: Table is not computed because it is disabled (model parameter 'auc_type' is set to AUTO or NONE) or due to domain size (maximum is 50 domains).\n",
      "Multinomial auc_pr values: Table is not computed because it is disabled (model parameter 'auc_type' is set to AUTO or NONE) or due to domain size (maximum is 50 domains).\n",
      "\n",
      "Confusion Matrix: Row labels: Actual class; Column labels: Predicted class\n"
     ]
    },
    {
     "data": {
      "text/html": [
       "<div>\n",
       "<style scoped>\n",
       "    .dataframe tbody tr th:only-of-type {\n",
       "        vertical-align: middle;\n",
       "    }\n",
       "\n",
       "    .dataframe tbody tr th {\n",
       "        vertical-align: top;\n",
       "    }\n",
       "\n",
       "    .dataframe thead th {\n",
       "        text-align: right;\n",
       "    }\n",
       "</style>\n",
       "<table border=\"1\" class=\"dataframe\">\n",
       "  <thead>\n",
       "    <tr style=\"text-align: right;\">\n",
       "      <th></th>\n",
       "      <th>0</th>\n",
       "      <th>2</th>\n",
       "      <th>5</th>\n",
       "      <th>Error</th>\n",
       "      <th>Rate</th>\n",
       "    </tr>\n",
       "  </thead>\n",
       "  <tbody>\n",
       "    <tr>\n",
       "      <th>0</th>\n",
       "      <td>88.0</td>\n",
       "      <td>10.0</td>\n",
       "      <td>4.0</td>\n",
       "      <td>0.137255</td>\n",
       "      <td>14 / 102</td>\n",
       "    </tr>\n",
       "    <tr>\n",
       "      <th>1</th>\n",
       "      <td>19.0</td>\n",
       "      <td>11.0</td>\n",
       "      <td>4.0</td>\n",
       "      <td>0.676471</td>\n",
       "      <td>23 / 34</td>\n",
       "    </tr>\n",
       "    <tr>\n",
       "      <th>2</th>\n",
       "      <td>16.0</td>\n",
       "      <td>11.0</td>\n",
       "      <td>10.0</td>\n",
       "      <td>0.729730</td>\n",
       "      <td>27 / 37</td>\n",
       "    </tr>\n",
       "    <tr>\n",
       "      <th>3</th>\n",
       "      <td>123.0</td>\n",
       "      <td>32.0</td>\n",
       "      <td>18.0</td>\n",
       "      <td>0.369942</td>\n",
       "      <td>64 / 173</td>\n",
       "    </tr>\n",
       "  </tbody>\n",
       "</table>\n",
       "</div>"
      ],
      "text/plain": [
       "       0     2     5     Error      Rate\n",
       "0   88.0  10.0   4.0  0.137255  14 / 102\n",
       "1   19.0  11.0   4.0  0.676471   23 / 34\n",
       "2   16.0  11.0  10.0  0.729730   27 / 37\n",
       "3  123.0  32.0  18.0  0.369942  64 / 173"
      ]
     },
     "metadata": {},
     "output_type": "display_data"
    },
    {
     "name": "stdout",
     "output_type": "stream",
     "text": [
      "\n",
      "Top-3 Hit Ratios: \n"
     ]
    },
    {
     "data": {
      "text/html": [
       "<div>\n",
       "<style scoped>\n",
       "    .dataframe tbody tr th:only-of-type {\n",
       "        vertical-align: middle;\n",
       "    }\n",
       "\n",
       "    .dataframe tbody tr th {\n",
       "        vertical-align: top;\n",
       "    }\n",
       "\n",
       "    .dataframe thead th {\n",
       "        text-align: right;\n",
       "    }\n",
       "</style>\n",
       "<table border=\"1\" class=\"dataframe\">\n",
       "  <thead>\n",
       "    <tr style=\"text-align: right;\">\n",
       "      <th></th>\n",
       "      <th>k</th>\n",
       "      <th>hit_ratio</th>\n",
       "    </tr>\n",
       "  </thead>\n",
       "  <tbody>\n",
       "    <tr>\n",
       "      <th>0</th>\n",
       "      <td>1</td>\n",
       "      <td>0.630058</td>\n",
       "    </tr>\n",
       "    <tr>\n",
       "      <th>1</th>\n",
       "      <td>2</td>\n",
       "      <td>0.867052</td>\n",
       "    </tr>\n",
       "    <tr>\n",
       "      <th>2</th>\n",
       "      <td>3</td>\n",
       "      <td>1.000000</td>\n",
       "    </tr>\n",
       "  </tbody>\n",
       "</table>\n",
       "</div>"
      ],
      "text/plain": [
       "   k  hit_ratio\n",
       "0  1   0.630058\n",
       "1  2   0.867052\n",
       "2  3   1.000000"
      ]
     },
     "metadata": {},
     "output_type": "display_data"
    },
    {
     "name": "stdout",
     "output_type": "stream",
     "text": [
      "\n",
      "Scoring History: \n"
     ]
    },
    {
     "data": {
      "text/html": [
       "<div>\n",
       "<style scoped>\n",
       "    .dataframe tbody tr th:only-of-type {\n",
       "        vertical-align: middle;\n",
       "    }\n",
       "\n",
       "    .dataframe tbody tr th {\n",
       "        vertical-align: top;\n",
       "    }\n",
       "\n",
       "    .dataframe thead th {\n",
       "        text-align: right;\n",
       "    }\n",
       "</style>\n",
       "<table border=\"1\" class=\"dataframe\">\n",
       "  <thead>\n",
       "    <tr style=\"text-align: right;\">\n",
       "      <th></th>\n",
       "      <th></th>\n",
       "      <th>timestamp</th>\n",
       "      <th>duration</th>\n",
       "      <th>number_of_trees</th>\n",
       "      <th>training_rmse</th>\n",
       "      <th>training_logloss</th>\n",
       "      <th>training_classification_error</th>\n",
       "      <th>training_auc</th>\n",
       "      <th>training_pr_auc</th>\n",
       "      <th>validation_rmse</th>\n",
       "      <th>validation_logloss</th>\n",
       "      <th>validation_classification_error</th>\n",
       "      <th>validation_auc</th>\n",
       "      <th>validation_pr_auc</th>\n",
       "    </tr>\n",
       "  </thead>\n",
       "  <tbody>\n",
       "    <tr>\n",
       "      <th>0</th>\n",
       "      <td></td>\n",
       "      <td>2021-06-13 18:17:24</td>\n",
       "      <td>0.003 sec</td>\n",
       "      <td>0.0</td>\n",
       "      <td>NaN</td>\n",
       "      <td>NaN</td>\n",
       "      <td>NaN</td>\n",
       "      <td>NaN</td>\n",
       "      <td>NaN</td>\n",
       "      <td>NaN</td>\n",
       "      <td>NaN</td>\n",
       "      <td>NaN</td>\n",
       "      <td>NaN</td>\n",
       "      <td>NaN</td>\n",
       "    </tr>\n",
       "    <tr>\n",
       "      <th>1</th>\n",
       "      <td></td>\n",
       "      <td>2021-06-13 18:17:24</td>\n",
       "      <td>0.031 sec</td>\n",
       "      <td>1.0</td>\n",
       "      <td>0.492335</td>\n",
       "      <td>5.606667</td>\n",
       "      <td>0.268698</td>\n",
       "      <td>NaN</td>\n",
       "      <td>NaN</td>\n",
       "      <td>0.685314</td>\n",
       "      <td>14.533188</td>\n",
       "      <td>0.427746</td>\n",
       "      <td>NaN</td>\n",
       "      <td>NaN</td>\n",
       "    </tr>\n",
       "    <tr>\n",
       "      <th>2</th>\n",
       "      <td></td>\n",
       "      <td>2021-06-13 18:17:24</td>\n",
       "      <td>0.042 sec</td>\n",
       "      <td>2.0</td>\n",
       "      <td>0.475449</td>\n",
       "      <td>4.564609</td>\n",
       "      <td>0.257732</td>\n",
       "      <td>NaN</td>\n",
       "      <td>NaN</td>\n",
       "      <td>0.581434</td>\n",
       "      <td>7.921631</td>\n",
       "      <td>0.369942</td>\n",
       "      <td>NaN</td>\n",
       "      <td>NaN</td>\n",
       "    </tr>\n",
       "    <tr>\n",
       "      <th>3</th>\n",
       "      <td></td>\n",
       "      <td>2021-06-13 18:17:24</td>\n",
       "      <td>0.052 sec</td>\n",
       "      <td>3.0</td>\n",
       "      <td>0.466220</td>\n",
       "      <td>4.171681</td>\n",
       "      <td>0.256831</td>\n",
       "      <td>NaN</td>\n",
       "      <td>NaN</td>\n",
       "      <td>0.570087</td>\n",
       "      <td>5.875098</td>\n",
       "      <td>0.416185</td>\n",
       "      <td>NaN</td>\n",
       "      <td>NaN</td>\n",
       "    </tr>\n",
       "    <tr>\n",
       "      <th>4</th>\n",
       "      <td></td>\n",
       "      <td>2021-06-13 18:17:24</td>\n",
       "      <td>0.063 sec</td>\n",
       "      <td>4.0</td>\n",
       "      <td>0.452895</td>\n",
       "      <td>3.624931</td>\n",
       "      <td>0.241212</td>\n",
       "      <td>NaN</td>\n",
       "      <td>NaN</td>\n",
       "      <td>0.556551</td>\n",
       "      <td>4.736951</td>\n",
       "      <td>0.410405</td>\n",
       "      <td>NaN</td>\n",
       "      <td>NaN</td>\n",
       "    </tr>\n",
       "    <tr>\n",
       "      <th>5</th>\n",
       "      <td></td>\n",
       "      <td>2021-06-13 18:17:24</td>\n",
       "      <td>0.077 sec</td>\n",
       "      <td>5.0</td>\n",
       "      <td>0.441157</td>\n",
       "      <td>3.287413</td>\n",
       "      <td>0.229638</td>\n",
       "      <td>NaN</td>\n",
       "      <td>NaN</td>\n",
       "      <td>0.550691</td>\n",
       "      <td>3.806793</td>\n",
       "      <td>0.393064</td>\n",
       "      <td>NaN</td>\n",
       "      <td>NaN</td>\n",
       "    </tr>\n",
       "    <tr>\n",
       "      <th>6</th>\n",
       "      <td></td>\n",
       "      <td>2021-06-13 18:17:24</td>\n",
       "      <td>0.091 sec</td>\n",
       "      <td>6.0</td>\n",
       "      <td>0.429461</td>\n",
       "      <td>2.750193</td>\n",
       "      <td>0.223799</td>\n",
       "      <td>NaN</td>\n",
       "      <td>NaN</td>\n",
       "      <td>0.547971</td>\n",
       "      <td>3.073473</td>\n",
       "      <td>0.381503</td>\n",
       "      <td>NaN</td>\n",
       "      <td>NaN</td>\n",
       "    </tr>\n",
       "    <tr>\n",
       "      <th>7</th>\n",
       "      <td></td>\n",
       "      <td>2021-06-13 18:17:24</td>\n",
       "      <td>0.105 sec</td>\n",
       "      <td>7.0</td>\n",
       "      <td>0.422752</td>\n",
       "      <td>2.596438</td>\n",
       "      <td>0.227712</td>\n",
       "      <td>NaN</td>\n",
       "      <td>NaN</td>\n",
       "      <td>0.551593</td>\n",
       "      <td>3.091384</td>\n",
       "      <td>0.398844</td>\n",
       "      <td>NaN</td>\n",
       "      <td>NaN</td>\n",
       "    </tr>\n",
       "    <tr>\n",
       "      <th>8</th>\n",
       "      <td></td>\n",
       "      <td>2021-06-13 18:17:24</td>\n",
       "      <td>0.117 sec</td>\n",
       "      <td>8.0</td>\n",
       "      <td>0.412335</td>\n",
       "      <td>2.198998</td>\n",
       "      <td>0.217895</td>\n",
       "      <td>NaN</td>\n",
       "      <td>NaN</td>\n",
       "      <td>0.548648</td>\n",
       "      <td>3.087831</td>\n",
       "      <td>0.387283</td>\n",
       "      <td>NaN</td>\n",
       "      <td>NaN</td>\n",
       "    </tr>\n",
       "    <tr>\n",
       "      <th>9</th>\n",
       "      <td></td>\n",
       "      <td>2021-06-13 18:17:24</td>\n",
       "      <td>0.129 sec</td>\n",
       "      <td>9.0</td>\n",
       "      <td>0.408037</td>\n",
       "      <td>2.009226</td>\n",
       "      <td>0.207292</td>\n",
       "      <td>NaN</td>\n",
       "      <td>NaN</td>\n",
       "      <td>0.548329</td>\n",
       "      <td>2.908954</td>\n",
       "      <td>0.381503</td>\n",
       "      <td>NaN</td>\n",
       "      <td>NaN</td>\n",
       "    </tr>\n",
       "    <tr>\n",
       "      <th>10</th>\n",
       "      <td></td>\n",
       "      <td>2021-06-13 18:17:24</td>\n",
       "      <td>0.139 sec</td>\n",
       "      <td>10.0</td>\n",
       "      <td>0.402789</td>\n",
       "      <td>1.696795</td>\n",
       "      <td>0.217842</td>\n",
       "      <td>NaN</td>\n",
       "      <td>NaN</td>\n",
       "      <td>0.544437</td>\n",
       "      <td>2.364872</td>\n",
       "      <td>0.387283</td>\n",
       "      <td>NaN</td>\n",
       "      <td>NaN</td>\n",
       "    </tr>\n",
       "    <tr>\n",
       "      <th>11</th>\n",
       "      <td></td>\n",
       "      <td>2021-06-13 18:17:24</td>\n",
       "      <td>0.151 sec</td>\n",
       "      <td>11.0</td>\n",
       "      <td>0.400187</td>\n",
       "      <td>1.586587</td>\n",
       "      <td>0.211340</td>\n",
       "      <td>NaN</td>\n",
       "      <td>NaN</td>\n",
       "      <td>0.547000</td>\n",
       "      <td>2.372040</td>\n",
       "      <td>0.387283</td>\n",
       "      <td>NaN</td>\n",
       "      <td>NaN</td>\n",
       "    </tr>\n",
       "    <tr>\n",
       "      <th>12</th>\n",
       "      <td></td>\n",
       "      <td>2021-06-13 18:17:24</td>\n",
       "      <td>0.164 sec</td>\n",
       "      <td>12.0</td>\n",
       "      <td>0.398314</td>\n",
       "      <td>1.450331</td>\n",
       "      <td>0.210689</td>\n",
       "      <td>NaN</td>\n",
       "      <td>NaN</td>\n",
       "      <td>0.545919</td>\n",
       "      <td>2.018201</td>\n",
       "      <td>0.387283</td>\n",
       "      <td>NaN</td>\n",
       "      <td>NaN</td>\n",
       "    </tr>\n",
       "    <tr>\n",
       "      <th>13</th>\n",
       "      <td></td>\n",
       "      <td>2021-06-13 18:17:24</td>\n",
       "      <td>0.175 sec</td>\n",
       "      <td>13.0</td>\n",
       "      <td>0.400566</td>\n",
       "      <td>1.387991</td>\n",
       "      <td>0.214724</td>\n",
       "      <td>NaN</td>\n",
       "      <td>NaN</td>\n",
       "      <td>0.544837</td>\n",
       "      <td>1.835531</td>\n",
       "      <td>0.375723</td>\n",
       "      <td>NaN</td>\n",
       "      <td>NaN</td>\n",
       "    </tr>\n",
       "    <tr>\n",
       "      <th>14</th>\n",
       "      <td></td>\n",
       "      <td>2021-06-13 18:17:24</td>\n",
       "      <td>0.186 sec</td>\n",
       "      <td>14.0</td>\n",
       "      <td>0.396999</td>\n",
       "      <td>1.250695</td>\n",
       "      <td>0.206932</td>\n",
       "      <td>NaN</td>\n",
       "      <td>NaN</td>\n",
       "      <td>0.543872</td>\n",
       "      <td>1.673658</td>\n",
       "      <td>0.375723</td>\n",
       "      <td>NaN</td>\n",
       "      <td>NaN</td>\n",
       "    </tr>\n",
       "    <tr>\n",
       "      <th>15</th>\n",
       "      <td></td>\n",
       "      <td>2021-06-13 18:17:24</td>\n",
       "      <td>0.198 sec</td>\n",
       "      <td>15.0</td>\n",
       "      <td>0.396541</td>\n",
       "      <td>1.184300</td>\n",
       "      <td>0.211813</td>\n",
       "      <td>NaN</td>\n",
       "      <td>NaN</td>\n",
       "      <td>0.541070</td>\n",
       "      <td>1.665489</td>\n",
       "      <td>0.369942</td>\n",
       "      <td>NaN</td>\n",
       "      <td>NaN</td>\n",
       "    </tr>\n",
       "    <tr>\n",
       "      <th>16</th>\n",
       "      <td></td>\n",
       "      <td>2021-06-13 18:17:24</td>\n",
       "      <td>0.211 sec</td>\n",
       "      <td>16.0</td>\n",
       "      <td>0.395920</td>\n",
       "      <td>1.120083</td>\n",
       "      <td>0.212614</td>\n",
       "      <td>NaN</td>\n",
       "      <td>NaN</td>\n",
       "      <td>0.539251</td>\n",
       "      <td>1.663578</td>\n",
       "      <td>0.375723</td>\n",
       "      <td>NaN</td>\n",
       "      <td>NaN</td>\n",
       "    </tr>\n",
       "    <tr>\n",
       "      <th>17</th>\n",
       "      <td></td>\n",
       "      <td>2021-06-13 18:17:24</td>\n",
       "      <td>0.223 sec</td>\n",
       "      <td>17.0</td>\n",
       "      <td>0.395979</td>\n",
       "      <td>1.088254</td>\n",
       "      <td>0.212614</td>\n",
       "      <td>NaN</td>\n",
       "      <td>NaN</td>\n",
       "      <td>0.539322</td>\n",
       "      <td>1.663569</td>\n",
       "      <td>0.381503</td>\n",
       "      <td>NaN</td>\n",
       "      <td>NaN</td>\n",
       "    </tr>\n",
       "    <tr>\n",
       "      <th>18</th>\n",
       "      <td></td>\n",
       "      <td>2021-06-13 18:17:24</td>\n",
       "      <td>0.237 sec</td>\n",
       "      <td>18.0</td>\n",
       "      <td>0.394087</td>\n",
       "      <td>1.084797</td>\n",
       "      <td>0.207528</td>\n",
       "      <td>NaN</td>\n",
       "      <td>NaN</td>\n",
       "      <td>0.541189</td>\n",
       "      <td>1.670983</td>\n",
       "      <td>0.381503</td>\n",
       "      <td>NaN</td>\n",
       "      <td>NaN</td>\n",
       "    </tr>\n",
       "    <tr>\n",
       "      <th>19</th>\n",
       "      <td></td>\n",
       "      <td>2021-06-13 18:17:24</td>\n",
       "      <td>0.250 sec</td>\n",
       "      <td>19.0</td>\n",
       "      <td>0.392592</td>\n",
       "      <td>1.047275</td>\n",
       "      <td>0.201424</td>\n",
       "      <td>NaN</td>\n",
       "      <td>NaN</td>\n",
       "      <td>0.541789</td>\n",
       "      <td>1.672460</td>\n",
       "      <td>0.375723</td>\n",
       "      <td>NaN</td>\n",
       "      <td>NaN</td>\n",
       "    </tr>\n",
       "  </tbody>\n",
       "</table>\n",
       "</div>"
      ],
      "text/plain": [
       "                timestamp    duration  number_of_trees  training_rmse  \\\n",
       "0     2021-06-13 18:17:24   0.003 sec              0.0            NaN   \n",
       "1     2021-06-13 18:17:24   0.031 sec              1.0       0.492335   \n",
       "2     2021-06-13 18:17:24   0.042 sec              2.0       0.475449   \n",
       "3     2021-06-13 18:17:24   0.052 sec              3.0       0.466220   \n",
       "4     2021-06-13 18:17:24   0.063 sec              4.0       0.452895   \n",
       "5     2021-06-13 18:17:24   0.077 sec              5.0       0.441157   \n",
       "6     2021-06-13 18:17:24   0.091 sec              6.0       0.429461   \n",
       "7     2021-06-13 18:17:24   0.105 sec              7.0       0.422752   \n",
       "8     2021-06-13 18:17:24   0.117 sec              8.0       0.412335   \n",
       "9     2021-06-13 18:17:24   0.129 sec              9.0       0.408037   \n",
       "10    2021-06-13 18:17:24   0.139 sec             10.0       0.402789   \n",
       "11    2021-06-13 18:17:24   0.151 sec             11.0       0.400187   \n",
       "12    2021-06-13 18:17:24   0.164 sec             12.0       0.398314   \n",
       "13    2021-06-13 18:17:24   0.175 sec             13.0       0.400566   \n",
       "14    2021-06-13 18:17:24   0.186 sec             14.0       0.396999   \n",
       "15    2021-06-13 18:17:24   0.198 sec             15.0       0.396541   \n",
       "16    2021-06-13 18:17:24   0.211 sec             16.0       0.395920   \n",
       "17    2021-06-13 18:17:24   0.223 sec             17.0       0.395979   \n",
       "18    2021-06-13 18:17:24   0.237 sec             18.0       0.394087   \n",
       "19    2021-06-13 18:17:24   0.250 sec             19.0       0.392592   \n",
       "\n",
       "    training_logloss  training_classification_error  training_auc  \\\n",
       "0                NaN                            NaN           NaN   \n",
       "1           5.606667                       0.268698           NaN   \n",
       "2           4.564609                       0.257732           NaN   \n",
       "3           4.171681                       0.256831           NaN   \n",
       "4           3.624931                       0.241212           NaN   \n",
       "5           3.287413                       0.229638           NaN   \n",
       "6           2.750193                       0.223799           NaN   \n",
       "7           2.596438                       0.227712           NaN   \n",
       "8           2.198998                       0.217895           NaN   \n",
       "9           2.009226                       0.207292           NaN   \n",
       "10          1.696795                       0.217842           NaN   \n",
       "11          1.586587                       0.211340           NaN   \n",
       "12          1.450331                       0.210689           NaN   \n",
       "13          1.387991                       0.214724           NaN   \n",
       "14          1.250695                       0.206932           NaN   \n",
       "15          1.184300                       0.211813           NaN   \n",
       "16          1.120083                       0.212614           NaN   \n",
       "17          1.088254                       0.212614           NaN   \n",
       "18          1.084797                       0.207528           NaN   \n",
       "19          1.047275                       0.201424           NaN   \n",
       "\n",
       "    training_pr_auc  validation_rmse  validation_logloss  \\\n",
       "0               NaN              NaN                 NaN   \n",
       "1               NaN         0.685314           14.533188   \n",
       "2               NaN         0.581434            7.921631   \n",
       "3               NaN         0.570087            5.875098   \n",
       "4               NaN         0.556551            4.736951   \n",
       "5               NaN         0.550691            3.806793   \n",
       "6               NaN         0.547971            3.073473   \n",
       "7               NaN         0.551593            3.091384   \n",
       "8               NaN         0.548648            3.087831   \n",
       "9               NaN         0.548329            2.908954   \n",
       "10              NaN         0.544437            2.364872   \n",
       "11              NaN         0.547000            2.372040   \n",
       "12              NaN         0.545919            2.018201   \n",
       "13              NaN         0.544837            1.835531   \n",
       "14              NaN         0.543872            1.673658   \n",
       "15              NaN         0.541070            1.665489   \n",
       "16              NaN         0.539251            1.663578   \n",
       "17              NaN         0.539322            1.663569   \n",
       "18              NaN         0.541189            1.670983   \n",
       "19              NaN         0.541789            1.672460   \n",
       "\n",
       "    validation_classification_error  validation_auc  validation_pr_auc  \n",
       "0                               NaN             NaN                NaN  \n",
       "1                          0.427746             NaN                NaN  \n",
       "2                          0.369942             NaN                NaN  \n",
       "3                          0.416185             NaN                NaN  \n",
       "4                          0.410405             NaN                NaN  \n",
       "5                          0.393064             NaN                NaN  \n",
       "6                          0.381503             NaN                NaN  \n",
       "7                          0.398844             NaN                NaN  \n",
       "8                          0.387283             NaN                NaN  \n",
       "9                          0.381503             NaN                NaN  \n",
       "10                         0.387283             NaN                NaN  \n",
       "11                         0.387283             NaN                NaN  \n",
       "12                         0.387283             NaN                NaN  \n",
       "13                         0.375723             NaN                NaN  \n",
       "14                         0.375723             NaN                NaN  \n",
       "15                         0.369942             NaN                NaN  \n",
       "16                         0.375723             NaN                NaN  \n",
       "17                         0.381503             NaN                NaN  \n",
       "18                         0.381503             NaN                NaN  \n",
       "19                         0.375723             NaN                NaN  "
      ]
     },
     "metadata": {},
     "output_type": "display_data"
    },
    {
     "name": "stdout",
     "output_type": "stream",
     "text": [
      "\n",
      "See the whole table with table.as_data_frame()\n",
      "\n",
      "Variable Importances: \n"
     ]
    },
    {
     "data": {
      "text/html": [
       "<div>\n",
       "<style scoped>\n",
       "    .dataframe tbody tr th:only-of-type {\n",
       "        vertical-align: middle;\n",
       "    }\n",
       "\n",
       "    .dataframe tbody tr th {\n",
       "        vertical-align: top;\n",
       "    }\n",
       "\n",
       "    .dataframe thead th {\n",
       "        text-align: right;\n",
       "    }\n",
       "</style>\n",
       "<table border=\"1\" class=\"dataframe\">\n",
       "  <thead>\n",
       "    <tr style=\"text-align: right;\">\n",
       "      <th></th>\n",
       "      <th>variable</th>\n",
       "      <th>relative_importance</th>\n",
       "      <th>scaled_importance</th>\n",
       "      <th>percentage</th>\n",
       "    </tr>\n",
       "  </thead>\n",
       "  <tbody>\n",
       "    <tr>\n",
       "      <th>0</th>\n",
       "      <td>Zip Code</td>\n",
       "      <td>7994.471680</td>\n",
       "      <td>1.000000</td>\n",
       "      <td>0.227806</td>\n",
       "    </tr>\n",
       "    <tr>\n",
       "      <th>1</th>\n",
       "      <td>Capacity</td>\n",
       "      <td>7295.916992</td>\n",
       "      <td>0.912620</td>\n",
       "      <td>0.207900</td>\n",
       "    </tr>\n",
       "    <tr>\n",
       "      <th>2</th>\n",
       "      <td>service time</td>\n",
       "      <td>4606.187500</td>\n",
       "      <td>0.576172</td>\n",
       "      <td>0.131255</td>\n",
       "    </tr>\n",
       "    <tr>\n",
       "      <th>3</th>\n",
       "      <td>City</td>\n",
       "      <td>4525.141602</td>\n",
       "      <td>0.566034</td>\n",
       "      <td>0.128946</td>\n",
       "    </tr>\n",
       "    <tr>\n",
       "      <th>4</th>\n",
       "      <td>Type of Child Care</td>\n",
       "      <td>3867.222168</td>\n",
       "      <td>0.483737</td>\n",
       "      <td>0.110198</td>\n",
       "    </tr>\n",
       "    <tr>\n",
       "      <th>5</th>\n",
       "      <td>Age Group</td>\n",
       "      <td>3850.885986</td>\n",
       "      <td>0.481694</td>\n",
       "      <td>0.109733</td>\n",
       "    </tr>\n",
       "    <tr>\n",
       "      <th>6</th>\n",
       "      <td>County</td>\n",
       "      <td>2356.097168</td>\n",
       "      <td>0.294716</td>\n",
       "      <td>0.067138</td>\n",
       "    </tr>\n",
       "    <tr>\n",
       "      <th>7</th>\n",
       "      <td>InGovProgram</td>\n",
       "      <td>597.466980</td>\n",
       "      <td>0.074735</td>\n",
       "      <td>0.017025</td>\n",
       "    </tr>\n",
       "  </tbody>\n",
       "</table>\n",
       "</div>"
      ],
      "text/plain": [
       "             variable  relative_importance  scaled_importance  percentage\n",
       "0            Zip Code          7994.471680           1.000000    0.227806\n",
       "1            Capacity          7295.916992           0.912620    0.207900\n",
       "2        service time          4606.187500           0.576172    0.131255\n",
       "3                City          4525.141602           0.566034    0.128946\n",
       "4  Type of Child Care          3867.222168           0.483737    0.110198\n",
       "5           Age Group          3850.885986           0.481694    0.109733\n",
       "6              County          2356.097168           0.294716    0.067138\n",
       "7        InGovProgram           597.466980           0.074735    0.017025"
      ]
     },
     "metadata": {},
     "output_type": "display_data"
    },
    {
     "data": {
      "text/plain": []
     },
     "execution_count": 41,
     "metadata": {},
     "output_type": "execute_result"
    }
   ],
   "source": [
    "model2"
   ]
  },
  {
   "cell_type": "code",
   "execution_count": 42,
   "metadata": {},
   "outputs": [
    {
     "data": {
      "image/png": "[encoded data removed]",
      "text/plain": [
       "<Figure size 1008x720 with 1 Axes>"
      ]
     },
     "metadata": {
      "needs_background": "light"
     },
     "output_type": "display_data"
    }
   ],
   "source": [
    "model2.varimp_plot()"
   ]
  },
  {
   "cell_type": "code",
   "execution_count": 43,
   "metadata": {},
   "outputs": [
    {
     "data": {
      "image/png": "[encoded data removed]",
      "text/plain": [
       "<Figure size 720x576 with 1 Axes>"
      ]
     },
     "metadata": {
      "needs_background": "light"
     },
     "output_type": "display_data"
    }
   ],
   "source": [
    "# Feature importance\n",
    "importance = model2.varimp(use_pandas=True)\n",
    "\n",
    "fig, ax = plt.subplots(figsize=(10, 8))\n",
    "sns.barplot(x='scaled_importance', y='variable', data=importance)\n",
    "plt.show()"
   ]
  },
  {
   "cell_type": "code",
   "execution_count": 44,
   "metadata": {
    "scrolled": true
   },
   "outputs": [
    {
     "name": "stdout",
     "output_type": "stream",
     "text": [
      "\n",
      "ModelMetricsMultinomial: drf\n",
      "** Reported on test data. **\n",
      "\n",
      "MSE: 0.2538895651074246\n",
      "RMSE: 0.5038745529468864\n",
      "LogLoss: 0.9681526912607485\n",
      "Mean Per-Class Error: 0.5200040269807712\n",
      "AUC: NaN\n",
      "AUCPR: NaN\n",
      "Multinomial auc values: Table is not computed because it is disabled (model parameter 'auc_type' is set to AUTO or NONE) or due to domain size (maximum is 50 domains).\n",
      "Multinomial auc_pr values: Table is not computed because it is disabled (model parameter 'auc_type' is set to AUTO or NONE) or due to domain size (maximum is 50 domains).\n",
      "\n",
      "Confusion Matrix: Row labels: Actual class; Column labels: Predicted class\n"
     ]
    },
    {
     "data": {
      "text/html": [
       "<div>\n",
       "<style scoped>\n",
       "    .dataframe tbody tr th:only-of-type {\n",
       "        vertical-align: middle;\n",
       "    }\n",
       "\n",
       "    .dataframe tbody tr th {\n",
       "        vertical-align: top;\n",
       "    }\n",
       "\n",
       "    .dataframe thead th {\n",
       "        text-align: right;\n",
       "    }\n",
       "</style>\n",
       "<table border=\"1\" class=\"dataframe\">\n",
       "  <thead>\n",
       "    <tr style=\"text-align: right;\">\n",
       "      <th></th>\n",
       "      <th>0</th>\n",
       "      <th>2</th>\n",
       "      <th>5</th>\n",
       "      <th>Error</th>\n",
       "      <th>Rate</th>\n",
       "    </tr>\n",
       "  </thead>\n",
       "  <tbody>\n",
       "    <tr>\n",
       "      <th>0</th>\n",
       "      <td>110.0</td>\n",
       "      <td>7.0</td>\n",
       "      <td>4.0</td>\n",
       "      <td>0.090909</td>\n",
       "      <td>11 / 121</td>\n",
       "    </tr>\n",
       "    <tr>\n",
       "      <th>1</th>\n",
       "      <td>23.0</td>\n",
       "      <td>13.0</td>\n",
       "      <td>7.0</td>\n",
       "      <td>0.697674</td>\n",
       "      <td>30 / 43</td>\n",
       "    </tr>\n",
       "    <tr>\n",
       "      <th>2</th>\n",
       "      <td>14.0</td>\n",
       "      <td>13.0</td>\n",
       "      <td>8.0</td>\n",
       "      <td>0.771429</td>\n",
       "      <td>27 / 35</td>\n",
       "    </tr>\n",
       "    <tr>\n",
       "      <th>3</th>\n",
       "      <td>147.0</td>\n",
       "      <td>33.0</td>\n",
       "      <td>19.0</td>\n",
       "      <td>0.341709</td>\n",
       "      <td>68 / 199</td>\n",
       "    </tr>\n",
       "  </tbody>\n",
       "</table>\n",
       "</div>"
      ],
      "text/plain": [
       "       0     2     5     Error      Rate\n",
       "0  110.0   7.0   4.0  0.090909  11 / 121\n",
       "1   23.0  13.0   7.0  0.697674   30 / 43\n",
       "2   14.0  13.0   8.0  0.771429   27 / 35\n",
       "3  147.0  33.0  19.0  0.341709  68 / 199"
      ]
     },
     "metadata": {},
     "output_type": "display_data"
    },
    {
     "name": "stdout",
     "output_type": "stream",
     "text": [
      "\n",
      "Top-3 Hit Ratios: \n"
     ]
    },
    {
     "data": {
      "text/html": [
       "<div>\n",
       "<style scoped>\n",
       "    .dataframe tbody tr th:only-of-type {\n",
       "        vertical-align: middle;\n",
       "    }\n",
       "\n",
       "    .dataframe tbody tr th {\n",
       "        vertical-align: top;\n",
       "    }\n",
       "\n",
       "    .dataframe thead th {\n",
       "        text-align: right;\n",
       "    }\n",
       "</style>\n",
       "<table border=\"1\" class=\"dataframe\">\n",
       "  <thead>\n",
       "    <tr style=\"text-align: right;\">\n",
       "      <th></th>\n",
       "      <th>k</th>\n",
       "      <th>hit_ratio</th>\n",
       "    </tr>\n",
       "  </thead>\n",
       "  <tbody>\n",
       "    <tr>\n",
       "      <th>0</th>\n",
       "      <td>1</td>\n",
       "      <td>0.658291</td>\n",
       "    </tr>\n",
       "    <tr>\n",
       "      <th>1</th>\n",
       "      <td>2</td>\n",
       "      <td>0.919598</td>\n",
       "    </tr>\n",
       "    <tr>\n",
       "      <th>2</th>\n",
       "      <td>3</td>\n",
       "      <td>1.000000</td>\n",
       "    </tr>\n",
       "  </tbody>\n",
       "</table>\n",
       "</div>"
      ],
      "text/plain": [
       "   k  hit_ratio\n",
       "0  1   0.658291\n",
       "1  2   0.919598\n",
       "2  3   1.000000"
      ]
     },
     "metadata": {},
     "output_type": "display_data"
    },
    {
     "data": {
      "text/plain": []
     },
     "execution_count": 44,
     "metadata": {},
     "output_type": "execute_result"
    }
   ],
   "source": [
    "model2.model_performance(test_data=test)"
   ]
  },
  {
   "cell_type": "markdown",
   "metadata": {},
   "source": [
    "**Comments:** \n",
    "\n",
    "We can see significant improvements of the second model while the overall performance is still not that good with a Mean Per-Class Error equal to 0.52. The confusion matrix improved while still not a good prediction.\n",
    "\n",
    "**Potential reason** \n",
    "1. Still the sample size is relatively small for the second category (level 1 through level 4).\n",
    "\n",
    "2. We did not consider the numerical meaning of the target variable as the level actually is an ordinal variable( e.g., level 5 is the best.)\n",
    "\n",
    "**improvement idea**\n",
    "1. For reason 1, common method we should consider is data resampling, especially in binary classification (e.g., removing samples from the majority class, or adding more examples from the minority class.) While in this case, we already set balance_classes=True in random forest modeling. Therefore, it may not actually work considering the sample size is too small in four categories. In the future, if more data is available, we can redo the classification to get better performance. \n",
    "\n",
    "\n",
    "2. For reason 2, we may try ordinal classification or econometric models like ordered probit model if more time is allowed.\n"
   ]
  },
  {
   "cell_type": "markdown",
   "metadata": {},
   "source": [
    "# Some thoughts based on the model results"
   ]
  },
  {
   "cell_type": "markdown",
   "metadata": {},
   "source": [
    "**Geographic factors** seem to be very important as both Zip code and City are important factors from the model output. From these, I assume that there might be an inequity issue in Delaware with regarding to child care service resources.\n",
    "    \n",
    "However, we should also recognize that this result can be **partially explained by the limitation of random forest**. As Zip code and City both have **many categories**, the random forest can be biased in favor of these variables. Therefore, some metrics are designed to evaluate it from different aspects."
   ]
  },
  {
   "cell_type": "markdown",
   "metadata": {},
   "source": [
    "### number of facilities per spatial unit"
   ]
  },
  {
   "cell_type": "markdown",
   "metadata": {},
   "source": [
    "#### Zip Code"
   ]
  },
  {
   "cell_type": "markdown",
   "metadata": {},
   "source": [
    "*I did a similar quick analysis to map the results of zip code to the map of Delaware using Q-GIS. Results can be seen from PDF file.*"
   ]
  },
  {
   "cell_type": "code",
   "execution_count": 45,
   "metadata": {
    "scrolled": false
   },
   "outputs": [],
   "source": [
    "#create a subset including all necessary variables\n",
    "subset = data_s[['License Number','County','Type of Child Care','City','Zip Code','Age Group','Capacity','Opening Time','Closing Time','Delaware STARS Level','service time','InGovProgram']]"
   ]
  },
  {
   "cell_type": "code",
   "execution_count": 46,
   "metadata": {
    "scrolled": false
   },
   "outputs": [
    {
     "name": "stdout",
     "output_type": "stream",
     "text": [
      "<class 'pandas.core.frame.DataFrame'>\n",
      "Int64Index: 952 entries, 0 to 1003\n",
      "Data columns (total 12 columns):\n",
      " #   Column                Non-Null Count  Dtype         \n",
      "---  ------                --------------  -----         \n",
      " 0   License Number        952 non-null    int64         \n",
      " 1   County                952 non-null    object        \n",
      " 2   Type of Child Care    952 non-null    object        \n",
      " 3   City                  952 non-null    object        \n",
      " 4   Zip Code              952 non-null    int64         \n",
      " 5   Age Group             952 non-null    object        \n",
      " 6   Capacity              952 non-null    int64         \n",
      " 7   Opening Time          952 non-null    datetime64[ns]\n",
      " 8   Closing Time          952 non-null    datetime64[ns]\n",
      " 9   Delaware STARS Level  952 non-null    int64         \n",
      " 10  service time          952 non-null    float64       \n",
      " 11  InGovProgram          952 non-null    float64       \n",
      "dtypes: datetime64[ns](2), float64(2), int64(4), object(4)\n",
      "memory usage: 136.7+ KB\n"
     ]
    }
   ],
   "source": [
    "subset.info()"
   ]
  },
  {
   "cell_type": "code",
   "execution_count": 47,
   "metadata": {},
   "outputs": [
    {
     "data": {
      "image/png": "[encoded data removed]",
      "text/plain": [
       "<Figure size 1080x432 with 1 Axes>"
      ]
     },
     "metadata": {
      "needs_background": "light"
     },
     "output_type": "display_data"
    }
   ],
   "source": [
    "# Visualization of different zipcodes\n",
    "grouped = subset[['Zip Code', 'License Number']].groupby('Zip Code').count().reset_index()\n",
    "fig, ax = plt.subplots(figsize=(15, 6))\n",
    "sns.countplot(x= 'Zip Code', data=subset, ax=ax)\n",
    "ax.set_title('Number of facilities per Zip Code', fontsize=16)\n",
    "plt.xticks(rotation=45, ha='right', fontsize = 12)\n",
    "plt.tight_layout()\n",
    "plt.show()"
   ]
  },
  {
   "cell_type": "markdown",
   "metadata": {},
   "source": [
    "#### City"
   ]
  },
  {
   "cell_type": "code",
   "execution_count": 48,
   "metadata": {
    "scrolled": false
   },
   "outputs": [
    {
     "data": {
      "image/png": "[encoded data removed]",
      "text/plain": [
       "<Figure size 1080x432 with 1 Axes>"
      ]
     },
     "metadata": {
      "needs_background": "light"
     },
     "output_type": "display_data"
    }
   ],
   "source": [
    "# Visualization of different cities\n",
    "grouped = subset[['City', 'License Number']].groupby('City').count().reset_index()\n",
    "fig, ax = plt.subplots(figsize=(15, 6))\n",
    "sns.countplot(x= 'City', data=subset, ax=ax)\n",
    "ax.set_title('Number of facilities per City', fontsize=16)\n",
    "plt.xticks(rotation=45, ha='right', fontsize = 12)\n",
    "plt.tight_layout()\n",
    "plt.show()"
   ]
  },
  {
   "cell_type": "markdown",
   "metadata": {},
   "source": [
    "### available service person * hours  per spatial unit"
   ]
  },
  {
   "cell_type": "markdown",
   "metadata": {},
   "source": [
    "*As capacity and service time are also important factors, I decice to design a new metric to measure the total service person hours for each spatial unit.*"
   ]
  },
  {
   "cell_type": "code",
   "execution_count": 49,
   "metadata": {},
   "outputs": [],
   "source": [
    "#create a column for personhours of each facility\n",
    "subset['personhr'] = subset['Capacity'] * subset['service time']"
   ]
  },
  {
   "cell_type": "markdown",
   "metadata": {},
   "source": [
    "#### Zip Code"
   ]
  },
  {
   "cell_type": "code",
   "execution_count": 50,
   "metadata": {
    "scrolled": false
   },
   "outputs": [
    {
     "data": {
      "image/png": "[encoded data removed]",
      "text/plain": [
       "<Figure size 1080x432 with 1 Axes>"
      ]
     },
     "metadata": {
      "needs_background": "light"
     },
     "output_type": "display_data"
    }
   ],
   "source": [
    "# Visualization of different zipcodes\n",
    "grouped = subset[['personhr', 'Zip Code']].groupby('Zip Code').mean().reset_index()\n",
    "fig, ax = plt.subplots(figsize=(15, 6))\n",
    "sns.barplot(x=subset['Zip Code'], y=subset['personhr'], ax=ax)\n",
    "ax.set_title('Mean PersonHours per Zip Code', fontsize=16)\n",
    "plt.xticks(rotation=45, ha='right', fontsize = 12)\n",
    "plt.tight_layout()\n",
    "plt.show()"
   ]
  },
  {
   "cell_type": "markdown",
   "metadata": {},
   "source": [
    "#### City"
   ]
  },
  {
   "cell_type": "code",
   "execution_count": 51,
   "metadata": {
    "scrolled": false
   },
   "outputs": [
    {
     "data": {
      "image/png": "[encoded data removed]",
      "text/plain": [
       "<Figure size 1080x432 with 1 Axes>"
      ]
     },
     "metadata": {
      "needs_background": "light"
     },
     "output_type": "display_data"
    }
   ],
   "source": [
    "# Visualization of different cities\n",
    "grouped = subset[['personhr', 'City']].groupby('City').mean().reset_index()\n",
    "fig, ax = plt.subplots(figsize=(15, 6))\n",
    "sns.barplot(x=subset['City'], y=subset['personhr'], ax=ax)\n",
    "ax.set_title('Mean PersonHours per City', fontsize=16)\n",
    "plt.xticks(rotation=45, ha='right', fontsize = 12)\n",
    "plt.tight_layout()\n",
    "plt.show()\n",
    "\n"
   ]
  },
  {
   "cell_type": "code",
   "execution_count": null,
   "metadata": {},
   "outputs": [],
   "source": []
  }
 ],
 "metadata": {
  "kernelspec": {
   "display_name": "Python 3",
   "language": "python",
   "name": "python3"
  },
  "language_info": {
   "codemirror_mode": {
    "name": "ipython",
    "version": 3
   },
   "file_extension": ".py",
   "mimetype": "text/x-python",
   "name": "python",
   "nbconvert_exporter": "python",
   "pygments_lexer": "ipython3",
   "version": "3.7.9"
  }
 },
 "nbformat": 4,
 "nbformat_minor": 4
}
